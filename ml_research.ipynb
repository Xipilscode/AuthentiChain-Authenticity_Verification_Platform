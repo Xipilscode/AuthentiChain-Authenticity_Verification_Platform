{
 "cells": [
  {
   "cell_type": "code",
   "execution_count": 6,
   "id": "0f52072f-6cda-4e22-97fc-049f9a3fe7e3",
   "metadata": {
    "tags": []
   },
   "outputs": [],
   "source": [
    "#Import libraries\n",
    "import os\n",
    "import time\n",
    "import itertools\n",
    "import numpy as np\n",
    "import pandas as pd\n",
    "import matplotlib.pyplot as plt\n",
    "from web3 import Web3\n",
    "from joblib import dump,load\n",
    "from tqdm import tqdm\n",
    "from dotenv import load_dotenv\n",
    "from datetime import datetime, timedelta\n",
    "from statsmodels.tsa.arima.model import ARIMA\n",
    "from statsmodels.tsa.stattools import adfuller\n",
    "from statsmodels.graphics.tsaplots import plot_acf, plot_pacf\n",
    "from sklearn.metrics import mean_absolute_error,mean_absolute_percentage_error, mean_squared_error"
   ]
  },
  {
   "cell_type": "code",
   "execution_count": 7,
   "id": "15f7368e-c749-4544-982c-d7b5a52d3b16",
   "metadata": {
    "tags": []
   },
   "outputs": [],
   "source": [
    "# Load .env file\n",
    "load_dotenv()\n",
    "\n",
    "# Load API key from .env file\n",
    "api_key = os.getenv(\"ALCHEMY_API_KEY\")"
   ]
  },
  {
   "cell_type": "markdown",
   "id": "eeecc8d6-5025-4f4c-ac09-8e020c3006fe",
   "metadata": {
    "tags": []
   },
   "source": [
    "### Step 1: Set Up Web3 Connection"
   ]
  },
  {
   "cell_type": "code",
   "execution_count": 8,
   "id": "42766fd3-e67e-48c6-942d-68ebe628b37c",
   "metadata": {
    "tags": []
   },
   "outputs": [
    {
     "name": "stdout",
     "output_type": "stream",
     "text": [
      "Connected to Ethereum node.\n"
     ]
    }
   ],
   "source": [
    "# Define the Alchemy API endpoint\n",
    "api_endpoint = f\"https://eth-mainnet.alchemyapi.io/v2/{api_key}\"\n",
    "\n",
    "# Set up Web3 connection\n",
    "w3 = Web3(Web3.HTTPProvider(api_endpoint))\n",
    "\n",
    "# Check if the connection is successful\n",
    "if w3.isConnected():\n",
    "    print(\"Connected to Ethereum node.\")\n",
    "else:\n",
    "    print(\"Connection failed!\")"
   ]
  },
  {
   "cell_type": "code",
   "execution_count": 9,
   "id": "7e6f1354-e54c-4f17-964c-c896ae8c2591",
   "metadata": {
    "tags": []
   },
   "outputs": [],
   "source": [
    "# Define the start and end dates for which the data is required\n",
    "start_date = datetime(2016, 3, 21)\n",
    "end_date = datetime(2023, 5, 19)"
   ]
  },
  {
   "cell_type": "markdown",
   "id": "0d3a83b0-13e4-4715-826d-d43825d076ce",
   "metadata": {},
   "source": [
    "# Step 2: Estimate the number of blocks per hour and total blocks for the time period"
   ]
  },
  {
   "cell_type": "code",
   "execution_count": 10,
   "id": "0f6f3055-da67-4418-9958-d7db56a70cd7",
   "metadata": {
    "tags": []
   },
   "outputs": [
    {
     "name": "stdout",
     "output_type": "stream",
     "text": [
      "Average block time: 13 seconds\n",
      "Estimated blocks per hour: 276\n",
      "Total number of hourly blocks for the given time period: 17321760\n"
     ]
    }
   ],
   "source": [
    "# Alternative to calculate average block time\n",
    "# Get the number of the latest block\n",
    "# latest_block_number = w3.eth.get_block('latest')['number']\n",
    "# # Calculate the block times of the latest 1000 blocks\n",
    "# block_times = []\n",
    "# for i in range(1000):\n",
    "#     # Get the current and previous blocks\n",
    "#     current_block = w3.eth.get_block(latest_block_number - i)\n",
    "#     previous_block = w3.eth.get_block(latest_block_number - i - 1)\n",
    "    \n",
    "#     # Calculate the block time and append to the list\n",
    "#     block_time = current_block['timestamp'] - previous_block['timestamp']\n",
    "#     block_times.append(block_time)\n",
    "\n",
    "# # Calculate the average block time\n",
    "# average_block_time = sum(block_times) / len(block_times)\n",
    "# print(f\"Average block time: {average_block_time} seconds\")\n",
    "\n",
    "# Define the block time(in seconds)\n",
    "avg_block_time = 13  \n",
    "print(f\"Average block time: {avg_block_time} seconds\")\n",
    "\n",
    "# Calculate the estimated number of blocks per hourn(3600 seconds in an hour)\n",
    "blocks_per_hour = int(3600 / avg_block_time)\n",
    "print(f\"Estimated blocks per hour: {blocks_per_hour}\")\n",
    "\n",
    "# Calculate the total hours for the given time period\n",
    "total_hours = int((end_date - start_date).total_seconds() / 3600)\n",
    "\n",
    "# Calculate the total number of blocks for the given time period\n",
    "total_blocks = total_hours * blocks_per_hour\n",
    "print(f\"Total number of hourly blocks for the given time period: {total_blocks}\")"
   ]
  },
  {
   "cell_type": "markdown",
   "id": "3bd9c53e-e604-4bb6-8152-7d93493c0042",
   "metadata": {
    "tags": []
   },
   "source": [
    "### Step 3: Fetch the gas prices and save them in a pandas DataFrame\n",
    "In this step, we iterate through all the blocks within our determined range, fetch the block details, and extract the gas prices and timestamps. The gas price, initially in hexadecimal format ('baseFeePerGas'), is converted into an integer using `int(block['baseFeePerGas'], 16)`. For each block, a new DataFrame is created to store the gas price and timestamp. We use `pandas.concat()` to combine these new DataFrames with our main `gas_price_data` DataFrame.\n",
    "\n",
    "The base fee per gas is typically represented as a hexadecimal number in the block information, so it is being converted to an integer using the int() function with base 16.\n",
    "The gas prices obtained are in \"wei\", which is the smallest denomination of ether.\n",
    "\n",
    "For perspective:\n",
    "1 Ether (ETH) = 1,000,000,000,000,000,000 Wei (1e18 Wei)"
   ]
  },
  {
   "cell_type": "code",
   "execution_count": 11,
   "id": "3a965463-0a37-4368-97fb-d9c2f04a2332",
   "metadata": {
    "tags": []
   },
   "outputs": [],
   "source": [
    "# Get the latest block number\n",
    "latest_block = w3.eth.block_number"
   ]
  },
  {
   "cell_type": "code",
   "execution_count": 12,
   "id": "39bedd5e-892d-46fa-a444-72dabb63b63e",
   "metadata": {
    "tags": []
   },
   "outputs": [
    {
     "data": {
      "text/plain": [
       "12452"
      ]
     },
     "execution_count": 12,
     "metadata": {},
     "output_type": "execute_result"
    }
   ],
   "source": [
    "# Calculate the start block\n",
    "start_block = latest_block - total_blocks\n",
    "start_block"
   ]
  },
  {
   "cell_type": "code",
   "execution_count": 129,
   "id": "b5dcf346-d8e7-4e91-8c30-1815f60c95db",
   "metadata": {
    "tags": []
   },
   "outputs": [
    {
     "name": "stderr",
     "output_type": "stream",
     "text": [
      "Fetching gas prices data: 100%|██████████████████████████████████████████████████████████████████████████████████████████████████████████████████████████████████| 62760/62760 [2:43:25<00:00,  6.40it/s]\n"
     ]
    }
   ],
   "source": [
    "# Initialize an empty DataFrame to store the gas prices\n",
    "gas_price_data = pd.DataFrame(columns=['timestamp', 'gas_price'])\n",
    "\n",
    "# Loop through the blocks, show status bar\n",
    "for block_number in tqdm(range(start_block, latest_block, blocks_per_hour),\n",
    "                         desc=\"Fetching gas prices data\"): \n",
    "    \n",
    "    # Get the block details\n",
    "    block = w3.eth.get_block(block_number)\n",
    "\n",
    "    # Check if 'baseFeePerGas' is in the block\n",
    "    if 'baseFeePerGas' in block:\n",
    "        # Convert the gas price from hex to integer\n",
    "            gas_price = int(block['baseFeePerGas'], 16)\n",
    "    else:\n",
    "        # Handle the case when 'baseFeePerGas' is not in the block\n",
    "        gas_price = None\n",
    "\n",
    "    # Convert timestamp to datetime and create a DataFrame with the block timestamp and gas price\n",
    "    block_data = pd.DataFrame({\n",
    "        'timestamp': [datetime.fromtimestamp(block['timestamp'])],\n",
    "        'gas_price': [gas_price]\n",
    "    })\n",
    "\n",
    "    # Append the block data to the gas price data DataFrame\n",
    "    gas_price_data = pd.concat([gas_price_data, block_data])"
   ]
  },
  {
   "cell_type": "code",
   "execution_count": 42,
   "id": "603e73a8-0aca-44e9-ab6e-c952f1fc2b7f",
   "metadata": {
    "tags": []
   },
   "outputs": [],
   "source": [
    "# VAR 1 to fertch data\n",
    "# Save the DataFrame to a CSV file\n",
    "gas_price_data.to_csv('resources/gas_price_since_inception.csv', index=False)"
   ]
  },
  {
   "cell_type": "code",
   "execution_count": 43,
   "id": "6d91f391-f30e-493d-8eae-2ebeca93c2fb",
   "metadata": {
    "tags": []
   },
   "outputs": [],
   "source": [
    "gas_price_data_inception = pd.read_csv('resources/gas_price_since_inception.csv')"
   ]
  },
  {
   "cell_type": "code",
   "execution_count": 44,
   "id": "bcd11ebd-e2d3-45ff-bbd8-417c646c8b0c",
   "metadata": {
    "tags": []
   },
   "outputs": [
    {
     "data": {
      "text/html": [
       "<div>\n",
       "<style scoped>\n",
       "    .dataframe tbody tr th:only-of-type {\n",
       "        vertical-align: middle;\n",
       "    }\n",
       "\n",
       "    .dataframe tbody tr th {\n",
       "        vertical-align: top;\n",
       "    }\n",
       "\n",
       "    .dataframe thead th {\n",
       "        text-align: right;\n",
       "    }\n",
       "</style>\n",
       "<table border=\"1\" class=\"dataframe\">\n",
       "  <thead>\n",
       "    <tr style=\"text-align: right;\">\n",
       "      <th></th>\n",
       "      <th>timestamp</th>\n",
       "      <th>gas_price</th>\n",
       "    </tr>\n",
       "  </thead>\n",
       "  <tbody>\n",
       "    <tr>\n",
       "      <th>0</th>\n",
       "      <td>2022-06-01 11:03:52</td>\n",
       "      <td>63239618198</td>\n",
       "    </tr>\n",
       "    <tr>\n",
       "      <th>1</th>\n",
       "      <td>2022-06-01 12:03:48</td>\n",
       "      <td>68281963048</td>\n",
       "    </tr>\n",
       "    <tr>\n",
       "      <th>2</th>\n",
       "      <td>2022-06-01 13:08:25</td>\n",
       "      <td>121007946512</td>\n",
       "    </tr>\n",
       "    <tr>\n",
       "      <th>3</th>\n",
       "      <td>2022-06-01 14:07:45</td>\n",
       "      <td>126156205023</td>\n",
       "    </tr>\n",
       "    <tr>\n",
       "      <th>4</th>\n",
       "      <td>2022-06-01 15:10:50</td>\n",
       "      <td>67510279000</td>\n",
       "    </tr>\n",
       "    <tr>\n",
       "      <th>5</th>\n",
       "      <td>2022-06-01 16:15:23</td>\n",
       "      <td>32404767035</td>\n",
       "    </tr>\n",
       "    <tr>\n",
       "      <th>6</th>\n",
       "      <td>2022-06-01 17:18:36</td>\n",
       "      <td>31681542751</td>\n",
       "    </tr>\n",
       "    <tr>\n",
       "      <th>7</th>\n",
       "      <td>2022-06-01 18:28:45</td>\n",
       "      <td>63240093401</td>\n",
       "    </tr>\n",
       "    <tr>\n",
       "      <th>8</th>\n",
       "      <td>2022-06-01 19:33:58</td>\n",
       "      <td>41244724759</td>\n",
       "    </tr>\n",
       "    <tr>\n",
       "      <th>9</th>\n",
       "      <td>2022-06-01 20:34:50</td>\n",
       "      <td>42544927254</td>\n",
       "    </tr>\n",
       "    <tr>\n",
       "      <th>10</th>\n",
       "      <td>2022-06-01 21:39:31</td>\n",
       "      <td>45046313989</td>\n",
       "    </tr>\n",
       "    <tr>\n",
       "      <th>11</th>\n",
       "      <td>2022-06-01 22:46:27</td>\n",
       "      <td>31285037523</td>\n",
       "    </tr>\n",
       "    <tr>\n",
       "      <th>12</th>\n",
       "      <td>2022-06-01 23:52:59</td>\n",
       "      <td>47331137724</td>\n",
       "    </tr>\n",
       "    <tr>\n",
       "      <th>13</th>\n",
       "      <td>2022-06-02 00:58:03</td>\n",
       "      <td>76986585357</td>\n",
       "    </tr>\n",
       "    <tr>\n",
       "      <th>14</th>\n",
       "      <td>2022-06-02 02:05:49</td>\n",
       "      <td>50402277857</td>\n",
       "    </tr>\n",
       "    <tr>\n",
       "      <th>15</th>\n",
       "      <td>2022-06-02 03:04:37</td>\n",
       "      <td>38725608138</td>\n",
       "    </tr>\n",
       "    <tr>\n",
       "      <th>16</th>\n",
       "      <td>2022-06-02 04:12:26</td>\n",
       "      <td>73320825445</td>\n",
       "    </tr>\n",
       "    <tr>\n",
       "      <th>17</th>\n",
       "      <td>2022-06-02 05:12:07</td>\n",
       "      <td>29932793320</td>\n",
       "    </tr>\n",
       "    <tr>\n",
       "      <th>18</th>\n",
       "      <td>2022-06-02 06:18:20</td>\n",
       "      <td>76604659266</td>\n",
       "    </tr>\n",
       "    <tr>\n",
       "      <th>19</th>\n",
       "      <td>2022-06-02 07:15:59</td>\n",
       "      <td>44445846941</td>\n",
       "    </tr>\n",
       "    <tr>\n",
       "      <th>20</th>\n",
       "      <td>2022-06-02 08:16:45</td>\n",
       "      <td>33757887680</td>\n",
       "    </tr>\n",
       "    <tr>\n",
       "      <th>21</th>\n",
       "      <td>2022-06-02 09:27:32</td>\n",
       "      <td>99012557091</td>\n",
       "    </tr>\n",
       "    <tr>\n",
       "      <th>22</th>\n",
       "      <td>2022-06-02 10:41:54</td>\n",
       "      <td>68081742736</td>\n",
       "    </tr>\n",
       "    <tr>\n",
       "      <th>23</th>\n",
       "      <td>2022-06-02 11:44:57</td>\n",
       "      <td>50372836790</td>\n",
       "    </tr>\n",
       "    <tr>\n",
       "      <th>24</th>\n",
       "      <td>2022-06-02 12:47:55</td>\n",
       "      <td>90003484019</td>\n",
       "    </tr>\n",
       "    <tr>\n",
       "      <th>25</th>\n",
       "      <td>2022-06-02 13:50:42</td>\n",
       "      <td>75655795119</td>\n",
       "    </tr>\n",
       "    <tr>\n",
       "      <th>26</th>\n",
       "      <td>2022-06-02 14:56:30</td>\n",
       "      <td>55022595957</td>\n",
       "    </tr>\n",
       "    <tr>\n",
       "      <th>27</th>\n",
       "      <td>2022-06-02 15:55:05</td>\n",
       "      <td>52169461239</td>\n",
       "    </tr>\n",
       "    <tr>\n",
       "      <th>28</th>\n",
       "      <td>2022-06-02 16:58:48</td>\n",
       "      <td>33500517051</td>\n",
       "    </tr>\n",
       "    <tr>\n",
       "      <th>29</th>\n",
       "      <td>2022-06-02 18:03:21</td>\n",
       "      <td>44184664476</td>\n",
       "    </tr>\n",
       "    <tr>\n",
       "      <th>30</th>\n",
       "      <td>2022-06-02 19:07:48</td>\n",
       "      <td>60764188586</td>\n",
       "    </tr>\n",
       "    <tr>\n",
       "      <th>31</th>\n",
       "      <td>2022-06-02 20:13:17</td>\n",
       "      <td>73024739287</td>\n",
       "    </tr>\n",
       "    <tr>\n",
       "      <th>32</th>\n",
       "      <td>2022-06-02 21:16:14</td>\n",
       "      <td>45008703623</td>\n",
       "    </tr>\n",
       "    <tr>\n",
       "      <th>33</th>\n",
       "      <td>2022-06-02 22:28:07</td>\n",
       "      <td>93109394033</td>\n",
       "    </tr>\n",
       "    <tr>\n",
       "      <th>34</th>\n",
       "      <td>2022-06-02 23:31:10</td>\n",
       "      <td>52125073354</td>\n",
       "    </tr>\n",
       "    <tr>\n",
       "      <th>35</th>\n",
       "      <td>2022-06-03 00:39:57</td>\n",
       "      <td>40487515172</td>\n",
       "    </tr>\n",
       "    <tr>\n",
       "      <th>36</th>\n",
       "      <td>2022-06-03 01:43:33</td>\n",
       "      <td>42052847438</td>\n",
       "    </tr>\n",
       "    <tr>\n",
       "      <th>37</th>\n",
       "      <td>2022-06-03 02:42:30</td>\n",
       "      <td>34404265631</td>\n",
       "    </tr>\n",
       "    <tr>\n",
       "      <th>38</th>\n",
       "      <td>2022-06-03 03:52:03</td>\n",
       "      <td>63178417146</td>\n",
       "    </tr>\n",
       "    <tr>\n",
       "      <th>39</th>\n",
       "      <td>2022-06-03 04:57:52</td>\n",
       "      <td>28969780519</td>\n",
       "    </tr>\n",
       "  </tbody>\n",
       "</table>\n",
       "</div>"
      ],
      "text/plain": [
       "              timestamp     gas_price\n",
       "0   2022-06-01 11:03:52   63239618198\n",
       "1   2022-06-01 12:03:48   68281963048\n",
       "2   2022-06-01 13:08:25  121007946512\n",
       "3   2022-06-01 14:07:45  126156205023\n",
       "4   2022-06-01 15:10:50   67510279000\n",
       "5   2022-06-01 16:15:23   32404767035\n",
       "6   2022-06-01 17:18:36   31681542751\n",
       "7   2022-06-01 18:28:45   63240093401\n",
       "8   2022-06-01 19:33:58   41244724759\n",
       "9   2022-06-01 20:34:50   42544927254\n",
       "10  2022-06-01 21:39:31   45046313989\n",
       "11  2022-06-01 22:46:27   31285037523\n",
       "12  2022-06-01 23:52:59   47331137724\n",
       "13  2022-06-02 00:58:03   76986585357\n",
       "14  2022-06-02 02:05:49   50402277857\n",
       "15  2022-06-02 03:04:37   38725608138\n",
       "16  2022-06-02 04:12:26   73320825445\n",
       "17  2022-06-02 05:12:07   29932793320\n",
       "18  2022-06-02 06:18:20   76604659266\n",
       "19  2022-06-02 07:15:59   44445846941\n",
       "20  2022-06-02 08:16:45   33757887680\n",
       "21  2022-06-02 09:27:32   99012557091\n",
       "22  2022-06-02 10:41:54   68081742736\n",
       "23  2022-06-02 11:44:57   50372836790\n",
       "24  2022-06-02 12:47:55   90003484019\n",
       "25  2022-06-02 13:50:42   75655795119\n",
       "26  2022-06-02 14:56:30   55022595957\n",
       "27  2022-06-02 15:55:05   52169461239\n",
       "28  2022-06-02 16:58:48   33500517051\n",
       "29  2022-06-02 18:03:21   44184664476\n",
       "30  2022-06-02 19:07:48   60764188586\n",
       "31  2022-06-02 20:13:17   73024739287\n",
       "32  2022-06-02 21:16:14   45008703623\n",
       "33  2022-06-02 22:28:07   93109394033\n",
       "34  2022-06-02 23:31:10   52125073354\n",
       "35  2022-06-03 00:39:57   40487515172\n",
       "36  2022-06-03 01:43:33   42052847438\n",
       "37  2022-06-03 02:42:30   34404265631\n",
       "38  2022-06-03 03:52:03   63178417146\n",
       "39  2022-06-03 04:57:52   28969780519"
      ]
     },
     "execution_count": 44,
     "metadata": {},
     "output_type": "execute_result"
    }
   ],
   "source": [
    "gas_price_data_inception.dropna().head(40)"
   ]
  },
  {
   "cell_type": "code",
   "execution_count": null,
   "id": "65158f31-95a0-4dd3-b778-d61f3fb94180",
   "metadata": {},
   "outputs": [],
   "source": []
  },
  {
   "cell_type": "code",
   "execution_count": 45,
   "id": "6d6d45a8-b64f-4704-b38c-563f60aea9a3",
   "metadata": {
    "tags": []
   },
   "outputs": [],
   "source": [
    "# VAR 2 to pull data if it's already fetched\n",
    "gas_price_data = pd.read_csv('resources/gas_price_data_1year.csv')"
   ]
  },
  {
   "cell_type": "code",
   "execution_count": 46,
   "id": "a1656653-da0d-4114-90f7-fd2f7b954f86",
   "metadata": {
    "tags": []
   },
   "outputs": [
    {
     "data": {
      "text/html": [
       "<div>\n",
       "<style scoped>\n",
       "    .dataframe tbody tr th:only-of-type {\n",
       "        vertical-align: middle;\n",
       "    }\n",
       "\n",
       "    .dataframe tbody tr th {\n",
       "        vertical-align: top;\n",
       "    }\n",
       "\n",
       "    .dataframe thead th {\n",
       "        text-align: right;\n",
       "    }\n",
       "</style>\n",
       "<table border=\"1\" class=\"dataframe\">\n",
       "  <thead>\n",
       "    <tr style=\"text-align: right;\">\n",
       "      <th></th>\n",
       "      <th>timestamp</th>\n",
       "      <th>gas_price</th>\n",
       "    </tr>\n",
       "  </thead>\n",
       "  <tbody>\n",
       "    <tr>\n",
       "      <th>0</th>\n",
       "      <td>2022-06-01 11:03:52</td>\n",
       "      <td>63239618198</td>\n",
       "    </tr>\n",
       "    <tr>\n",
       "      <th>1</th>\n",
       "      <td>2022-06-01 12:03:48</td>\n",
       "      <td>68281963048</td>\n",
       "    </tr>\n",
       "    <tr>\n",
       "      <th>2</th>\n",
       "      <td>2022-06-01 13:08:25</td>\n",
       "      <td>121007946512</td>\n",
       "    </tr>\n",
       "    <tr>\n",
       "      <th>3</th>\n",
       "      <td>2022-06-01 14:07:45</td>\n",
       "      <td>126156205023</td>\n",
       "    </tr>\n",
       "    <tr>\n",
       "      <th>4</th>\n",
       "      <td>2022-06-01 15:10:50</td>\n",
       "      <td>67510279000</td>\n",
       "    </tr>\n",
       "  </tbody>\n",
       "</table>\n",
       "</div>"
      ],
      "text/plain": [
       "             timestamp     gas_price\n",
       "0  2022-06-01 11:03:52   63239618198\n",
       "1  2022-06-01 12:03:48   68281963048\n",
       "2  2022-06-01 13:08:25  121007946512\n",
       "3  2022-06-01 14:07:45  126156205023\n",
       "4  2022-06-01 15:10:50   67510279000"
      ]
     },
     "execution_count": 46,
     "metadata": {},
     "output_type": "execute_result"
    }
   ],
   "source": [
    "gas_price_data.head()"
   ]
  },
  {
   "cell_type": "code",
   "execution_count": 47,
   "id": "21dbdd96-d203-47f4-95db-0fd9ad105155",
   "metadata": {
    "tags": []
   },
   "outputs": [],
   "source": [
    "# Set `timestamp` column as index, copy DataFrame\n",
    "# Convert the 'timestamp' column to a datetime index\n",
    "gas_price_df = gas_price_data.set_index(pd.to_datetime(gas_price_data['timestamp'])).copy()\n"
   ]
  },
  {
   "cell_type": "code",
   "execution_count": 48,
   "id": "7f31c3f0-41be-4fbc-b638-c80d1b6c1a0b",
   "metadata": {
    "tags": []
   },
   "outputs": [
    {
     "name": "stdout",
     "output_type": "stream",
     "text": [
      "<class 'pandas.core.frame.DataFrame'>\n",
      "DatetimeIndex: 8760 entries, 2022-06-01 11:03:52 to 2023-05-20 15:50:35\n",
      "Data columns (total 2 columns):\n",
      " #   Column     Non-Null Count  Dtype \n",
      "---  ------     --------------  ----- \n",
      " 0   timestamp  8760 non-null   object\n",
      " 1   gas_price  8760 non-null   int64 \n",
      "dtypes: int64(1), object(1)\n",
      "memory usage: 205.3+ KB\n"
     ]
    }
   ],
   "source": [
    "gas_price_df.info()"
   ]
  },
  {
   "cell_type": "code",
   "execution_count": 49,
   "id": "bc03bf18-743c-405a-8d0b-03a19afc1198",
   "metadata": {},
   "outputs": [
    {
     "data": {
      "text/html": [
       "<div>\n",
       "<style scoped>\n",
       "    .dataframe tbody tr th:only-of-type {\n",
       "        vertical-align: middle;\n",
       "    }\n",
       "\n",
       "    .dataframe tbody tr th {\n",
       "        vertical-align: top;\n",
       "    }\n",
       "\n",
       "    .dataframe thead th {\n",
       "        text-align: right;\n",
       "    }\n",
       "</style>\n",
       "<table border=\"1\" class=\"dataframe\">\n",
       "  <thead>\n",
       "    <tr style=\"text-align: right;\">\n",
       "      <th></th>\n",
       "      <th>timestamp</th>\n",
       "      <th>gas_price</th>\n",
       "    </tr>\n",
       "    <tr>\n",
       "      <th>timestamp</th>\n",
       "      <th></th>\n",
       "      <th></th>\n",
       "    </tr>\n",
       "  </thead>\n",
       "  <tbody>\n",
       "    <tr>\n",
       "      <th>2022-06-01 11:03:52</th>\n",
       "      <td>2022-06-01 11:03:52</td>\n",
       "      <td>63239618198</td>\n",
       "    </tr>\n",
       "    <tr>\n",
       "      <th>2022-06-01 12:03:48</th>\n",
       "      <td>2022-06-01 12:03:48</td>\n",
       "      <td>68281963048</td>\n",
       "    </tr>\n",
       "    <tr>\n",
       "      <th>2022-06-01 13:08:25</th>\n",
       "      <td>2022-06-01 13:08:25</td>\n",
       "      <td>121007946512</td>\n",
       "    </tr>\n",
       "    <tr>\n",
       "      <th>2022-06-01 14:07:45</th>\n",
       "      <td>2022-06-01 14:07:45</td>\n",
       "      <td>126156205023</td>\n",
       "    </tr>\n",
       "    <tr>\n",
       "      <th>2022-06-01 15:10:50</th>\n",
       "      <td>2022-06-01 15:10:50</td>\n",
       "      <td>67510279000</td>\n",
       "    </tr>\n",
       "    <tr>\n",
       "      <th>2022-06-01 16:15:23</th>\n",
       "      <td>2022-06-01 16:15:23</td>\n",
       "      <td>32404767035</td>\n",
       "    </tr>\n",
       "    <tr>\n",
       "      <th>2022-06-01 17:18:36</th>\n",
       "      <td>2022-06-01 17:18:36</td>\n",
       "      <td>31681542751</td>\n",
       "    </tr>\n",
       "    <tr>\n",
       "      <th>2022-06-01 18:28:45</th>\n",
       "      <td>2022-06-01 18:28:45</td>\n",
       "      <td>63240093401</td>\n",
       "    </tr>\n",
       "    <tr>\n",
       "      <th>2022-06-01 19:33:58</th>\n",
       "      <td>2022-06-01 19:33:58</td>\n",
       "      <td>41244724759</td>\n",
       "    </tr>\n",
       "    <tr>\n",
       "      <th>2022-06-01 20:34:50</th>\n",
       "      <td>2022-06-01 20:34:50</td>\n",
       "      <td>42544927254</td>\n",
       "    </tr>\n",
       "    <tr>\n",
       "      <th>2022-06-01 21:39:31</th>\n",
       "      <td>2022-06-01 21:39:31</td>\n",
       "      <td>45046313989</td>\n",
       "    </tr>\n",
       "    <tr>\n",
       "      <th>2022-06-01 22:46:27</th>\n",
       "      <td>2022-06-01 22:46:27</td>\n",
       "      <td>31285037523</td>\n",
       "    </tr>\n",
       "    <tr>\n",
       "      <th>2022-06-01 23:52:59</th>\n",
       "      <td>2022-06-01 23:52:59</td>\n",
       "      <td>47331137724</td>\n",
       "    </tr>\n",
       "    <tr>\n",
       "      <th>2022-06-02 00:58:03</th>\n",
       "      <td>2022-06-02 00:58:03</td>\n",
       "      <td>76986585357</td>\n",
       "    </tr>\n",
       "    <tr>\n",
       "      <th>2022-06-02 02:05:49</th>\n",
       "      <td>2022-06-02 02:05:49</td>\n",
       "      <td>50402277857</td>\n",
       "    </tr>\n",
       "    <tr>\n",
       "      <th>2022-06-02 03:04:37</th>\n",
       "      <td>2022-06-02 03:04:37</td>\n",
       "      <td>38725608138</td>\n",
       "    </tr>\n",
       "    <tr>\n",
       "      <th>2022-06-02 04:12:26</th>\n",
       "      <td>2022-06-02 04:12:26</td>\n",
       "      <td>73320825445</td>\n",
       "    </tr>\n",
       "    <tr>\n",
       "      <th>2022-06-02 05:12:07</th>\n",
       "      <td>2022-06-02 05:12:07</td>\n",
       "      <td>29932793320</td>\n",
       "    </tr>\n",
       "    <tr>\n",
       "      <th>2022-06-02 06:18:20</th>\n",
       "      <td>2022-06-02 06:18:20</td>\n",
       "      <td>76604659266</td>\n",
       "    </tr>\n",
       "    <tr>\n",
       "      <th>2022-06-02 07:15:59</th>\n",
       "      <td>2022-06-02 07:15:59</td>\n",
       "      <td>44445846941</td>\n",
       "    </tr>\n",
       "    <tr>\n",
       "      <th>2022-06-02 08:16:45</th>\n",
       "      <td>2022-06-02 08:16:45</td>\n",
       "      <td>33757887680</td>\n",
       "    </tr>\n",
       "    <tr>\n",
       "      <th>2022-06-02 09:27:32</th>\n",
       "      <td>2022-06-02 09:27:32</td>\n",
       "      <td>99012557091</td>\n",
       "    </tr>\n",
       "    <tr>\n",
       "      <th>2022-06-02 10:41:54</th>\n",
       "      <td>2022-06-02 10:41:54</td>\n",
       "      <td>68081742736</td>\n",
       "    </tr>\n",
       "    <tr>\n",
       "      <th>2022-06-02 11:44:57</th>\n",
       "      <td>2022-06-02 11:44:57</td>\n",
       "      <td>50372836790</td>\n",
       "    </tr>\n",
       "    <tr>\n",
       "      <th>2022-06-02 12:47:55</th>\n",
       "      <td>2022-06-02 12:47:55</td>\n",
       "      <td>90003484019</td>\n",
       "    </tr>\n",
       "    <tr>\n",
       "      <th>2022-06-02 13:50:42</th>\n",
       "      <td>2022-06-02 13:50:42</td>\n",
       "      <td>75655795119</td>\n",
       "    </tr>\n",
       "    <tr>\n",
       "      <th>2022-06-02 14:56:30</th>\n",
       "      <td>2022-06-02 14:56:30</td>\n",
       "      <td>55022595957</td>\n",
       "    </tr>\n",
       "    <tr>\n",
       "      <th>2022-06-02 15:55:05</th>\n",
       "      <td>2022-06-02 15:55:05</td>\n",
       "      <td>52169461239</td>\n",
       "    </tr>\n",
       "    <tr>\n",
       "      <th>2022-06-02 16:58:48</th>\n",
       "      <td>2022-06-02 16:58:48</td>\n",
       "      <td>33500517051</td>\n",
       "    </tr>\n",
       "    <tr>\n",
       "      <th>2022-06-02 18:03:21</th>\n",
       "      <td>2022-06-02 18:03:21</td>\n",
       "      <td>44184664476</td>\n",
       "    </tr>\n",
       "    <tr>\n",
       "      <th>2022-06-02 19:07:48</th>\n",
       "      <td>2022-06-02 19:07:48</td>\n",
       "      <td>60764188586</td>\n",
       "    </tr>\n",
       "    <tr>\n",
       "      <th>2022-06-02 20:13:17</th>\n",
       "      <td>2022-06-02 20:13:17</td>\n",
       "      <td>73024739287</td>\n",
       "    </tr>\n",
       "    <tr>\n",
       "      <th>2022-06-02 21:16:14</th>\n",
       "      <td>2022-06-02 21:16:14</td>\n",
       "      <td>45008703623</td>\n",
       "    </tr>\n",
       "    <tr>\n",
       "      <th>2022-06-02 22:28:07</th>\n",
       "      <td>2022-06-02 22:28:07</td>\n",
       "      <td>93109394033</td>\n",
       "    </tr>\n",
       "    <tr>\n",
       "      <th>2022-06-02 23:31:10</th>\n",
       "      <td>2022-06-02 23:31:10</td>\n",
       "      <td>52125073354</td>\n",
       "    </tr>\n",
       "    <tr>\n",
       "      <th>2022-06-03 00:39:57</th>\n",
       "      <td>2022-06-03 00:39:57</td>\n",
       "      <td>40487515172</td>\n",
       "    </tr>\n",
       "    <tr>\n",
       "      <th>2022-06-03 01:43:33</th>\n",
       "      <td>2022-06-03 01:43:33</td>\n",
       "      <td>42052847438</td>\n",
       "    </tr>\n",
       "    <tr>\n",
       "      <th>2022-06-03 02:42:30</th>\n",
       "      <td>2022-06-03 02:42:30</td>\n",
       "      <td>34404265631</td>\n",
       "    </tr>\n",
       "    <tr>\n",
       "      <th>2022-06-03 03:52:03</th>\n",
       "      <td>2022-06-03 03:52:03</td>\n",
       "      <td>63178417146</td>\n",
       "    </tr>\n",
       "    <tr>\n",
       "      <th>2022-06-03 04:57:52</th>\n",
       "      <td>2022-06-03 04:57:52</td>\n",
       "      <td>28969780519</td>\n",
       "    </tr>\n",
       "  </tbody>\n",
       "</table>\n",
       "</div>"
      ],
      "text/plain": [
       "                               timestamp     gas_price\n",
       "timestamp                                             \n",
       "2022-06-01 11:03:52  2022-06-01 11:03:52   63239618198\n",
       "2022-06-01 12:03:48  2022-06-01 12:03:48   68281963048\n",
       "2022-06-01 13:08:25  2022-06-01 13:08:25  121007946512\n",
       "2022-06-01 14:07:45  2022-06-01 14:07:45  126156205023\n",
       "2022-06-01 15:10:50  2022-06-01 15:10:50   67510279000\n",
       "2022-06-01 16:15:23  2022-06-01 16:15:23   32404767035\n",
       "2022-06-01 17:18:36  2022-06-01 17:18:36   31681542751\n",
       "2022-06-01 18:28:45  2022-06-01 18:28:45   63240093401\n",
       "2022-06-01 19:33:58  2022-06-01 19:33:58   41244724759\n",
       "2022-06-01 20:34:50  2022-06-01 20:34:50   42544927254\n",
       "2022-06-01 21:39:31  2022-06-01 21:39:31   45046313989\n",
       "2022-06-01 22:46:27  2022-06-01 22:46:27   31285037523\n",
       "2022-06-01 23:52:59  2022-06-01 23:52:59   47331137724\n",
       "2022-06-02 00:58:03  2022-06-02 00:58:03   76986585357\n",
       "2022-06-02 02:05:49  2022-06-02 02:05:49   50402277857\n",
       "2022-06-02 03:04:37  2022-06-02 03:04:37   38725608138\n",
       "2022-06-02 04:12:26  2022-06-02 04:12:26   73320825445\n",
       "2022-06-02 05:12:07  2022-06-02 05:12:07   29932793320\n",
       "2022-06-02 06:18:20  2022-06-02 06:18:20   76604659266\n",
       "2022-06-02 07:15:59  2022-06-02 07:15:59   44445846941\n",
       "2022-06-02 08:16:45  2022-06-02 08:16:45   33757887680\n",
       "2022-06-02 09:27:32  2022-06-02 09:27:32   99012557091\n",
       "2022-06-02 10:41:54  2022-06-02 10:41:54   68081742736\n",
       "2022-06-02 11:44:57  2022-06-02 11:44:57   50372836790\n",
       "2022-06-02 12:47:55  2022-06-02 12:47:55   90003484019\n",
       "2022-06-02 13:50:42  2022-06-02 13:50:42   75655795119\n",
       "2022-06-02 14:56:30  2022-06-02 14:56:30   55022595957\n",
       "2022-06-02 15:55:05  2022-06-02 15:55:05   52169461239\n",
       "2022-06-02 16:58:48  2022-06-02 16:58:48   33500517051\n",
       "2022-06-02 18:03:21  2022-06-02 18:03:21   44184664476\n",
       "2022-06-02 19:07:48  2022-06-02 19:07:48   60764188586\n",
       "2022-06-02 20:13:17  2022-06-02 20:13:17   73024739287\n",
       "2022-06-02 21:16:14  2022-06-02 21:16:14   45008703623\n",
       "2022-06-02 22:28:07  2022-06-02 22:28:07   93109394033\n",
       "2022-06-02 23:31:10  2022-06-02 23:31:10   52125073354\n",
       "2022-06-03 00:39:57  2022-06-03 00:39:57   40487515172\n",
       "2022-06-03 01:43:33  2022-06-03 01:43:33   42052847438\n",
       "2022-06-03 02:42:30  2022-06-03 02:42:30   34404265631\n",
       "2022-06-03 03:52:03  2022-06-03 03:52:03   63178417146\n",
       "2022-06-03 04:57:52  2022-06-03 04:57:52   28969780519"
      ]
     },
     "metadata": {},
     "output_type": "display_data"
    },
    {
     "data": {
      "text/html": [
       "<div>\n",
       "<style scoped>\n",
       "    .dataframe tbody tr th:only-of-type {\n",
       "        vertical-align: middle;\n",
       "    }\n",
       "\n",
       "    .dataframe tbody tr th {\n",
       "        vertical-align: top;\n",
       "    }\n",
       "\n",
       "    .dataframe thead th {\n",
       "        text-align: right;\n",
       "    }\n",
       "</style>\n",
       "<table border=\"1\" class=\"dataframe\">\n",
       "  <thead>\n",
       "    <tr style=\"text-align: right;\">\n",
       "      <th></th>\n",
       "      <th>timestamp</th>\n",
       "      <th>gas_price</th>\n",
       "    </tr>\n",
       "    <tr>\n",
       "      <th>timestamp</th>\n",
       "      <th></th>\n",
       "      <th></th>\n",
       "    </tr>\n",
       "  </thead>\n",
       "  <tbody>\n",
       "    <tr>\n",
       "      <th>2023-05-20 07:26:23</th>\n",
       "      <td>2023-05-20 07:26:23</td>\n",
       "      <td>36167651916</td>\n",
       "    </tr>\n",
       "    <tr>\n",
       "      <th>2023-05-20 08:22:11</th>\n",
       "      <td>2023-05-20 08:22:11</td>\n",
       "      <td>42579332023</td>\n",
       "    </tr>\n",
       "    <tr>\n",
       "      <th>2023-05-20 09:17:47</th>\n",
       "      <td>2023-05-20 09:17:47</td>\n",
       "      <td>36887580795</td>\n",
       "    </tr>\n",
       "    <tr>\n",
       "      <th>2023-05-20 10:13:23</th>\n",
       "      <td>2023-05-20 10:13:23</td>\n",
       "      <td>42755192159</td>\n",
       "    </tr>\n",
       "    <tr>\n",
       "      <th>2023-05-20 11:09:35</th>\n",
       "      <td>2023-05-20 11:09:35</td>\n",
       "      <td>34687802687</td>\n",
       "    </tr>\n",
       "    <tr>\n",
       "      <th>2023-05-20 12:05:35</th>\n",
       "      <td>2023-05-20 12:05:35</td>\n",
       "      <td>29684795277</td>\n",
       "    </tr>\n",
       "    <tr>\n",
       "      <th>2023-05-20 13:02:35</th>\n",
       "      <td>2023-05-20 13:02:35</td>\n",
       "      <td>31417792342</td>\n",
       "    </tr>\n",
       "    <tr>\n",
       "      <th>2023-05-20 13:58:35</th>\n",
       "      <td>2023-05-20 13:58:35</td>\n",
       "      <td>31031853696</td>\n",
       "    </tr>\n",
       "    <tr>\n",
       "      <th>2023-05-20 14:54:23</th>\n",
       "      <td>2023-05-20 14:54:23</td>\n",
       "      <td>28188597658</td>\n",
       "    </tr>\n",
       "    <tr>\n",
       "      <th>2023-05-20 15:50:35</th>\n",
       "      <td>2023-05-20 15:50:35</td>\n",
       "      <td>29012598570</td>\n",
       "    </tr>\n",
       "  </tbody>\n",
       "</table>\n",
       "</div>"
      ],
      "text/plain": [
       "                               timestamp    gas_price\n",
       "timestamp                                            \n",
       "2023-05-20 07:26:23  2023-05-20 07:26:23  36167651916\n",
       "2023-05-20 08:22:11  2023-05-20 08:22:11  42579332023\n",
       "2023-05-20 09:17:47  2023-05-20 09:17:47  36887580795\n",
       "2023-05-20 10:13:23  2023-05-20 10:13:23  42755192159\n",
       "2023-05-20 11:09:35  2023-05-20 11:09:35  34687802687\n",
       "2023-05-20 12:05:35  2023-05-20 12:05:35  29684795277\n",
       "2023-05-20 13:02:35  2023-05-20 13:02:35  31417792342\n",
       "2023-05-20 13:58:35  2023-05-20 13:58:35  31031853696\n",
       "2023-05-20 14:54:23  2023-05-20 14:54:23  28188597658\n",
       "2023-05-20 15:50:35  2023-05-20 15:50:35  29012598570"
      ]
     },
     "execution_count": 49,
     "metadata": {},
     "output_type": "execute_result"
    }
   ],
   "source": [
    "display(gas_price_df.head(40))\n",
    "gas_price_df.tail(10)"
   ]
  },
  {
   "cell_type": "code",
   "execution_count": 50,
   "id": "1329a7bb-e2ee-4d9e-aa9e-df525f346ac0",
   "metadata": {
    "tags": []
   },
   "outputs": [
    {
     "data": {
      "image/png": "[encoded data removed]",
      "text/plain": [
       "<Figure size 640x480 with 1 Axes>"
      ]
     },
     "metadata": {},
     "output_type": "display_data"
    }
   ],
   "source": [
    "# Plot the gas prices\n",
    "gas_price_df['gas_price'].plot(\n",
    "    title=\"Etherium hourly gas prices for 1 yaer period\",);\n",
    "\n",
    "# Rotate the x-axis labels by 45 degrees\n",
    "plt.xticks(rotation=45)\n",
    "\n",
    "# Display the plot\n",
    "plt.show()"
   ]
  },
  {
   "cell_type": "markdown",
   "id": "e44959cc-19c1-4a19-b648-130c7bf53fb7",
   "metadata": {},
   "source": [
    "### Step 4:Resample to daily data\n",
    "The format 6.007497e+10 is scientific notation, and it is equivalent to 60,074,970,000. Scientific notation is often used for very large or very small numbers to make them easier to read and write."
   ]
  },
  {
   "cell_type": "code",
   "execution_count": 51,
   "id": "7d82d634-7681-4a7b-80f3-09c0a31b181a",
   "metadata": {
    "tags": []
   },
   "outputs": [
    {
     "name": "stdout",
     "output_type": "stream",
     "text": [
      "<class 'pandas.core.frame.DataFrame'>\n",
      "DatetimeIndex: 354 entries, 2022-06-01 to 2023-05-20\n",
      "Freq: D\n",
      "Data columns (total 2 columns):\n",
      " #   Column     Non-Null Count  Dtype \n",
      "---  ------     --------------  ----- \n",
      " 0   timestamp  354 non-null    object\n",
      " 1   gas_price  354 non-null    int64 \n",
      "dtypes: int64(1), object(1)\n",
      "memory usage: 8.3+ KB\n"
     ]
    }
   ],
   "source": [
    "# Resample the data into daily data, taking the mean gas price for each day\n",
    "daily_gas_price_df = gas_price_df.resample('D').last()\n",
    "daily_gas_price_df.info()"
   ]
  },
  {
   "cell_type": "code",
   "execution_count": 52,
   "id": "1775429e-8108-4788-ba6f-c25d15c47537",
   "metadata": {
    "tags": []
   },
   "outputs": [
    {
     "data": {
      "text/html": [
       "<div>\n",
       "<style scoped>\n",
       "    .dataframe tbody tr th:only-of-type {\n",
       "        vertical-align: middle;\n",
       "    }\n",
       "\n",
       "    .dataframe tbody tr th {\n",
       "        vertical-align: top;\n",
       "    }\n",
       "\n",
       "    .dataframe thead th {\n",
       "        text-align: right;\n",
       "    }\n",
       "</style>\n",
       "<table border=\"1\" class=\"dataframe\">\n",
       "  <thead>\n",
       "    <tr style=\"text-align: right;\">\n",
       "      <th></th>\n",
       "      <th>timestamp</th>\n",
       "      <th>gas_price</th>\n",
       "    </tr>\n",
       "    <tr>\n",
       "      <th>timestamp</th>\n",
       "      <th></th>\n",
       "      <th></th>\n",
       "    </tr>\n",
       "  </thead>\n",
       "  <tbody>\n",
       "    <tr>\n",
       "      <th>2022-06-01</th>\n",
       "      <td>2022-06-01 23:52:59</td>\n",
       "      <td>47331137724</td>\n",
       "    </tr>\n",
       "    <tr>\n",
       "      <th>2022-06-02</th>\n",
       "      <td>2022-06-02 23:31:10</td>\n",
       "      <td>52125073354</td>\n",
       "    </tr>\n",
       "    <tr>\n",
       "      <th>2022-06-03</th>\n",
       "      <td>2022-06-03 23:04:29</td>\n",
       "      <td>50925847852</td>\n",
       "    </tr>\n",
       "    <tr>\n",
       "      <th>2022-06-04</th>\n",
       "      <td>2022-06-04 23:02:52</td>\n",
       "      <td>22076581780</td>\n",
       "    </tr>\n",
       "    <tr>\n",
       "      <th>2022-06-05</th>\n",
       "      <td>2022-06-05 23:50:57</td>\n",
       "      <td>73286894729</td>\n",
       "    </tr>\n",
       "    <tr>\n",
       "      <th>2022-06-06</th>\n",
       "      <td>2022-06-06 23:31:13</td>\n",
       "      <td>33258057747</td>\n",
       "    </tr>\n",
       "    <tr>\n",
       "      <th>2022-06-07</th>\n",
       "      <td>2022-06-07 23:06:10</td>\n",
       "      <td>42772752073</td>\n",
       "    </tr>\n",
       "    <tr>\n",
       "      <th>2022-06-08</th>\n",
       "      <td>2022-06-08 23:51:13</td>\n",
       "      <td>33950590546</td>\n",
       "    </tr>\n",
       "    <tr>\n",
       "      <th>2022-06-09</th>\n",
       "      <td>2022-06-09 23:38:12</td>\n",
       "      <td>37571748480</td>\n",
       "    </tr>\n",
       "    <tr>\n",
       "      <th>2022-06-10</th>\n",
       "      <td>2022-06-10 23:30:45</td>\n",
       "      <td>21524372904</td>\n",
       "    </tr>\n",
       "    <tr>\n",
       "      <th>2022-06-11</th>\n",
       "      <td>2022-06-11 22:57:54</td>\n",
       "      <td>27199228191</td>\n",
       "    </tr>\n",
       "    <tr>\n",
       "      <th>2022-06-12</th>\n",
       "      <td>2022-06-12 22:55:51</td>\n",
       "      <td>56964957007</td>\n",
       "    </tr>\n",
       "    <tr>\n",
       "      <th>2022-06-13</th>\n",
       "      <td>2022-06-13 22:52:41</td>\n",
       "      <td>55481476757</td>\n",
       "    </tr>\n",
       "    <tr>\n",
       "      <th>2022-06-14</th>\n",
       "      <td>2022-06-14 23:02:28</td>\n",
       "      <td>34832304808</td>\n",
       "    </tr>\n",
       "    <tr>\n",
       "      <th>2022-06-15</th>\n",
       "      <td>2022-06-15 23:03:19</td>\n",
       "      <td>22331177831</td>\n",
       "    </tr>\n",
       "    <tr>\n",
       "      <th>2022-06-16</th>\n",
       "      <td>2022-06-16 22:51:59</td>\n",
       "      <td>19461591812</td>\n",
       "    </tr>\n",
       "    <tr>\n",
       "      <th>2022-06-17</th>\n",
       "      <td>2022-06-17 22:45:48</td>\n",
       "      <td>26841604151</td>\n",
       "    </tr>\n",
       "    <tr>\n",
       "      <th>2022-06-18</th>\n",
       "      <td>2022-06-18 23:53:34</td>\n",
       "      <td>19403618417</td>\n",
       "    </tr>\n",
       "    <tr>\n",
       "      <th>2022-06-19</th>\n",
       "      <td>2022-06-19 22:49:20</td>\n",
       "      <td>26371155744</td>\n",
       "    </tr>\n",
       "    <tr>\n",
       "      <th>2022-06-20</th>\n",
       "      <td>2022-06-20 22:45:03</td>\n",
       "      <td>25440105678</td>\n",
       "    </tr>\n",
       "  </tbody>\n",
       "</table>\n",
       "</div>"
      ],
      "text/plain": [
       "                      timestamp    gas_price\n",
       "timestamp                                   \n",
       "2022-06-01  2022-06-01 23:52:59  47331137724\n",
       "2022-06-02  2022-06-02 23:31:10  52125073354\n",
       "2022-06-03  2022-06-03 23:04:29  50925847852\n",
       "2022-06-04  2022-06-04 23:02:52  22076581780\n",
       "2022-06-05  2022-06-05 23:50:57  73286894729\n",
       "2022-06-06  2022-06-06 23:31:13  33258057747\n",
       "2022-06-07  2022-06-07 23:06:10  42772752073\n",
       "2022-06-08  2022-06-08 23:51:13  33950590546\n",
       "2022-06-09  2022-06-09 23:38:12  37571748480\n",
       "2022-06-10  2022-06-10 23:30:45  21524372904\n",
       "2022-06-11  2022-06-11 22:57:54  27199228191\n",
       "2022-06-12  2022-06-12 22:55:51  56964957007\n",
       "2022-06-13  2022-06-13 22:52:41  55481476757\n",
       "2022-06-14  2022-06-14 23:02:28  34832304808\n",
       "2022-06-15  2022-06-15 23:03:19  22331177831\n",
       "2022-06-16  2022-06-16 22:51:59  19461591812\n",
       "2022-06-17  2022-06-17 22:45:48  26841604151\n",
       "2022-06-18  2022-06-18 23:53:34  19403618417\n",
       "2022-06-19  2022-06-19 22:49:20  26371155744\n",
       "2022-06-20  2022-06-20 22:45:03  25440105678"
      ]
     },
     "metadata": {},
     "output_type": "display_data"
    },
    {
     "data": {
      "text/html": [
       "<div>\n",
       "<style scoped>\n",
       "    .dataframe tbody tr th:only-of-type {\n",
       "        vertical-align: middle;\n",
       "    }\n",
       "\n",
       "    .dataframe tbody tr th {\n",
       "        vertical-align: top;\n",
       "    }\n",
       "\n",
       "    .dataframe thead th {\n",
       "        text-align: right;\n",
       "    }\n",
       "</style>\n",
       "<table border=\"1\" class=\"dataframe\">\n",
       "  <thead>\n",
       "    <tr style=\"text-align: right;\">\n",
       "      <th></th>\n",
       "      <th>timestamp</th>\n",
       "      <th>gas_price</th>\n",
       "    </tr>\n",
       "    <tr>\n",
       "      <th>timestamp</th>\n",
       "      <th></th>\n",
       "      <th></th>\n",
       "    </tr>\n",
       "  </thead>\n",
       "  <tbody>\n",
       "    <tr>\n",
       "      <th>2023-05-11</th>\n",
       "      <td>2023-05-11 23:43:47</td>\n",
       "      <td>57078295519</td>\n",
       "    </tr>\n",
       "    <tr>\n",
       "      <th>2023-05-12</th>\n",
       "      <td>2023-05-12 23:38:11</td>\n",
       "      <td>38738621068</td>\n",
       "    </tr>\n",
       "    <tr>\n",
       "      <th>2023-05-13</th>\n",
       "      <td>2023-05-13 23:05:11</td>\n",
       "      <td>38609885896</td>\n",
       "    </tr>\n",
       "    <tr>\n",
       "      <th>2023-05-14</th>\n",
       "      <td>2023-05-14 23:28:23</td>\n",
       "      <td>41075904257</td>\n",
       "    </tr>\n",
       "    <tr>\n",
       "      <th>2023-05-15</th>\n",
       "      <td>2023-05-15 23:45:23</td>\n",
       "      <td>46100569360</td>\n",
       "    </tr>\n",
       "    <tr>\n",
       "      <th>2023-05-16</th>\n",
       "      <td>2023-05-16 23:07:59</td>\n",
       "      <td>39454459644</td>\n",
       "    </tr>\n",
       "    <tr>\n",
       "      <th>2023-05-17</th>\n",
       "      <td>2023-05-17 23:28:47</td>\n",
       "      <td>37511919821</td>\n",
       "    </tr>\n",
       "    <tr>\n",
       "      <th>2023-05-18</th>\n",
       "      <td>2023-05-18 23:43:11</td>\n",
       "      <td>33310207590</td>\n",
       "    </tr>\n",
       "    <tr>\n",
       "      <th>2023-05-19</th>\n",
       "      <td>2023-05-19 23:59:23</td>\n",
       "      <td>28548516604</td>\n",
       "    </tr>\n",
       "    <tr>\n",
       "      <th>2023-05-20</th>\n",
       "      <td>2023-05-20 15:50:35</td>\n",
       "      <td>29012598570</td>\n",
       "    </tr>\n",
       "  </tbody>\n",
       "</table>\n",
       "</div>"
      ],
      "text/plain": [
       "                      timestamp    gas_price\n",
       "timestamp                                   \n",
       "2023-05-11  2023-05-11 23:43:47  57078295519\n",
       "2023-05-12  2023-05-12 23:38:11  38738621068\n",
       "2023-05-13  2023-05-13 23:05:11  38609885896\n",
       "2023-05-14  2023-05-14 23:28:23  41075904257\n",
       "2023-05-15  2023-05-15 23:45:23  46100569360\n",
       "2023-05-16  2023-05-16 23:07:59  39454459644\n",
       "2023-05-17  2023-05-17 23:28:47  37511919821\n",
       "2023-05-18  2023-05-18 23:43:11  33310207590\n",
       "2023-05-19  2023-05-19 23:59:23  28548516604\n",
       "2023-05-20  2023-05-20 15:50:35  29012598570"
      ]
     },
     "execution_count": 52,
     "metadata": {},
     "output_type": "execute_result"
    }
   ],
   "source": [
    "display(daily_gas_price_df.head(20))\n",
    "daily_gas_price_df.tail(10)"
   ]
  },
  {
   "cell_type": "code",
   "execution_count": 53,
   "id": "afbc8dc4-731e-4062-99cd-a68cc6ba3b31",
   "metadata": {
    "tags": []
   },
   "outputs": [
    {
     "data": {
      "image/png": "[encoded data removed]",
      "text/plain": [
       "<Figure size 640x480 with 1 Axes>"
      ]
     },
     "metadata": {},
     "output_type": "display_data"
    }
   ],
   "source": [
    "daily_gas_price_df['gas_price'].plot(\n",
    "    title=\"Etherium daly gas prices for 1 yaer period\");"
   ]
  },
  {
   "cell_type": "markdown",
   "id": "e816185d-7782-4df6-a324-579e47c82175",
   "metadata": {
    "tags": []
   },
   "source": [
    "### Step 6: Check for Stationarity\n",
    "Before applying an ARIMA model, we need to make sure our data is stationary. The Augmented Dickey-Fuller test can be used to test for a unit root in a univariate process in the presence of serial correlation.\n",
    "This function will print out the test statistic, p-value, and critical values for the test. If the test statistic is less than the critical value, we can reject the null hypothesis (that the time series is not stationary). If not, we will need to transform the data to make it stationary."
   ]
  },
  {
   "cell_type": "code",
   "execution_count": 54,
   "id": "715b48e5-a359-4fb5-b620-5fea799b83fd",
   "metadata": {
    "tags": []
   },
   "outputs": [
    {
     "name": "stdout",
     "output_type": "stream",
     "text": [
      "p-value: 9.190939346915779e-05\n"
     ]
    }
   ],
   "source": [
    "adf_test = adfuller(daily_gas_price_df['gas_price'])\n",
    "print(f'p-value: {adf_test[1]}')"
   ]
  },
  {
   "cell_type": "code",
   "execution_count": null,
   "id": "67bd688d-2b1b-40b9-8565-1aa6209741d7",
   "metadata": {},
   "outputs": [],
   "source": []
  },
  {
   "cell_type": "code",
   "execution_count": 55,
   "id": "5624dea3-70cb-4935-9e97-d0653791aa3d",
   "metadata": {},
   "outputs": [
    {
     "name": "stdout",
     "output_type": "stream",
     "text": [
      "Results of Augmented Dickey-Fuller Test:\n",
      "Test Statistic                  -4.679577\n",
      "p-value                          0.000092\n",
      "#Lags Used                       4.000000\n",
      "Number of Observations Used    349.000000\n",
      "Critical Value (1%)             -3.449227\n",
      "Critical Value (5%)             -2.869857\n",
      "Critical Value (10%)            -2.571201\n",
      "dtype: float64\n"
     ]
    }
   ],
   "source": [
    "# Define a function to perform the Augmented Dickey-Fuller test\n",
    "def check_stationarity(data):\n",
    "    \"\"\"\n",
    "    Perform Augmented Dickey-Fuller test to check for stationarity.\n",
    "    \n",
    "    Arguments:\n",
    "    Pandas Series: a series of data to be checked for stationarity.\n",
    "    \n",
    "    Returns:\n",
    "    Prints test statistics and critical values.\n",
    "    \"\"\"\n",
    "    # Perform Augmented Dickey-Fuller test\n",
    "    # Perform the test using the AIC criterion for choosing the number of lags\n",
    "    print('Results of Augmented Dickey-Fuller Test:')\n",
    "    adf_test = adfuller(data, autolag='AIC')  \n",
    "\n",
    "    # Extract and print the test statistics and critical values\n",
    "    adf_output = pd.Series(adf_test[0:4], \n",
    "                           index=['Test Statistic', 'p-value', '#Lags Used', 'Number of Observations Used'])\n",
    "    \n",
    "    for key, value in adf_test[4].items():\n",
    "        adf_output['Critical Value (%s)' % key] = value\n",
    "    print(adf_output)\n",
    "\n",
    "# Apply the function\n",
    "check_stationarity(daily_gas_price_df['gas_price'])"
   ]
  },
  {
   "cell_type": "markdown",
   "id": "e409c4a0-b8f6-4c7b-baf7-4b8e642d93b8",
   "metadata": {},
   "source": [
    "### Conclusion: \n",
    "Looking at your results:\n",
    "* The Test Statistic (-3.35) is less than the 5% Critical Value (-2.869833).\n",
    "* The p-value (0.012721) is less than 0.05.\n",
    "\n",
    "The results allow us to reject the null hypothesis. Therefore, we conclude that the time series is stationary. This means that the statistical properties of the series (like the mean and variance) are not a function of time."
   ]
  },
  {
   "cell_type": "markdown",
   "id": "87c2c865-f9f5-4a09-a643-43e8ffc503ad",
   "metadata": {
    "tags": []
   },
   "source": [
    "### Step 7: Plot ACF and PACF\n",
    "The ACF and PACF plots are used to identify the parameters for the ARIMA model. For instance, a sharp drop after lag 'k' in the PACF plot indicates that 'k' should be the order of the AR term. Similarly, a gradual decline in the ACF plot suggests a MA term.\n",
    "The `plot_acf` function plots the autocorrelation function, which measures the correlation between the time series with a lagged version of itself. The `lags` parameter specifies the number of lags to consider. The `zero` parameter is set to `False` to exclude the correlation of the time series with itself (at lag zero).\n",
    "\n",
    "Similarly, the `plot_pacf` function plots the partial autocorrelation function. The PACF measures the correlation between the time series with a lagged version of itself but after eliminating the variations already explained by the intervening comparisons. In other words, it measures the direct effect of the past lagged observations on the current observation."
   ]
  },
  {
   "cell_type": "code",
   "execution_count": 56,
   "id": "1eb6a38e-1a63-4bef-8036-651f4b224d9c",
   "metadata": {},
   "outputs": [
    {
     "data": {
      "image/png": "[encoded data removed]",
      "text/plain": [
       "<Figure size 1200x800 with 2 Axes>"
      ]
     },
     "metadata": {},
     "output_type": "display_data"
    }
   ],
   "source": [
    "# Define the size of the plots\n",
    "fig, (ax1, ax2) = plt.subplots(2, 1, figsize=(12,8))\n",
    "\n",
    "# Plot the ACF on ax1\n",
    "plot_acf(daily_gas_price_df['gas_price'], lags=50, zero=False, ax=ax1)\n",
    "\n",
    "# Plot the PACF on ax2\n",
    "plot_pacf(daily_gas_price_df['gas_price'], lags=50, zero=False, ax=ax2)\n",
    "\n",
    "# Show the plots\n",
    "plt.show()"
   ]
  },
  {
   "cell_type": "code",
   "execution_count": 57,
   "id": "278999f9-3f28-4940-bad9-d628ac1be956",
   "metadata": {
    "tags": []
   },
   "outputs": [
    {
     "data": {
      "text/html": [
       "<div>\n",
       "<style scoped>\n",
       "    .dataframe tbody tr th:only-of-type {\n",
       "        vertical-align: middle;\n",
       "    }\n",
       "\n",
       "    .dataframe tbody tr th {\n",
       "        vertical-align: top;\n",
       "    }\n",
       "\n",
       "    .dataframe thead th {\n",
       "        text-align: right;\n",
       "    }\n",
       "</style>\n",
       "<table border=\"1\" class=\"dataframe\">\n",
       "  <thead>\n",
       "    <tr style=\"text-align: right;\">\n",
       "      <th></th>\n",
       "      <th>timestamp</th>\n",
       "      <th>gas_price</th>\n",
       "    </tr>\n",
       "    <tr>\n",
       "      <th>timestamp</th>\n",
       "      <th></th>\n",
       "      <th></th>\n",
       "    </tr>\n",
       "  </thead>\n",
       "  <tbody>\n",
       "    <tr>\n",
       "      <th>2022-06-01</th>\n",
       "      <td>2022-06-01 23:52:59</td>\n",
       "      <td>47331137724</td>\n",
       "    </tr>\n",
       "    <tr>\n",
       "      <th>2022-06-02</th>\n",
       "      <td>2022-06-02 23:31:10</td>\n",
       "      <td>52125073354</td>\n",
       "    </tr>\n",
       "    <tr>\n",
       "      <th>2022-06-03</th>\n",
       "      <td>2022-06-03 23:04:29</td>\n",
       "      <td>50925847852</td>\n",
       "    </tr>\n",
       "    <tr>\n",
       "      <th>2022-06-04</th>\n",
       "      <td>2022-06-04 23:02:52</td>\n",
       "      <td>22076581780</td>\n",
       "    </tr>\n",
       "    <tr>\n",
       "      <th>2022-06-05</th>\n",
       "      <td>2022-06-05 23:50:57</td>\n",
       "      <td>73286894729</td>\n",
       "    </tr>\n",
       "  </tbody>\n",
       "</table>\n",
       "</div>"
      ],
      "text/plain": [
       "                      timestamp    gas_price\n",
       "timestamp                                   \n",
       "2022-06-01  2022-06-01 23:52:59  47331137724\n",
       "2022-06-02  2022-06-02 23:31:10  52125073354\n",
       "2022-06-03  2022-06-03 23:04:29  50925847852\n",
       "2022-06-04  2022-06-04 23:02:52  22076581780\n",
       "2022-06-05  2022-06-05 23:50:57  73286894729"
      ]
     },
     "execution_count": 57,
     "metadata": {},
     "output_type": "execute_result"
    }
   ],
   "source": [
    "daily_gas_price_df.head()\n"
   ]
  },
  {
   "cell_type": "code",
   "execution_count": 58,
   "id": "516b36fb-ba4c-4644-97b1-90c3b7d03039",
   "metadata": {},
   "outputs": [],
   "source": [
    "# Add a new column 'gas_price_diff' for the differenced data\n",
    "daily_gas_price_df['gas_price_diff'] = daily_gas_price_df['gas_price'].diff()\n"
   ]
  },
  {
   "cell_type": "code",
   "execution_count": 59,
   "id": "77ebaa81-940a-40f5-aaae-d409345a21b7",
   "metadata": {},
   "outputs": [
    {
     "data": {
      "text/html": [
       "<div>\n",
       "<style scoped>\n",
       "    .dataframe tbody tr th:only-of-type {\n",
       "        vertical-align: middle;\n",
       "    }\n",
       "\n",
       "    .dataframe tbody tr th {\n",
       "        vertical-align: top;\n",
       "    }\n",
       "\n",
       "    .dataframe thead th {\n",
       "        text-align: right;\n",
       "    }\n",
       "</style>\n",
       "<table border=\"1\" class=\"dataframe\">\n",
       "  <thead>\n",
       "    <tr style=\"text-align: right;\">\n",
       "      <th></th>\n",
       "      <th>timestamp</th>\n",
       "      <th>gas_price</th>\n",
       "      <th>gas_price_diff</th>\n",
       "    </tr>\n",
       "    <tr>\n",
       "      <th>timestamp</th>\n",
       "      <th></th>\n",
       "      <th></th>\n",
       "      <th></th>\n",
       "    </tr>\n",
       "  </thead>\n",
       "  <tbody>\n",
       "    <tr>\n",
       "      <th>2022-06-01</th>\n",
       "      <td>2022-06-01 23:52:59</td>\n",
       "      <td>47331137724</td>\n",
       "      <td>NaN</td>\n",
       "    </tr>\n",
       "    <tr>\n",
       "      <th>2022-06-02</th>\n",
       "      <td>2022-06-02 23:31:10</td>\n",
       "      <td>52125073354</td>\n",
       "      <td>4.793936e+09</td>\n",
       "    </tr>\n",
       "    <tr>\n",
       "      <th>2022-06-03</th>\n",
       "      <td>2022-06-03 23:04:29</td>\n",
       "      <td>50925847852</td>\n",
       "      <td>-1.199226e+09</td>\n",
       "    </tr>\n",
       "    <tr>\n",
       "      <th>2022-06-04</th>\n",
       "      <td>2022-06-04 23:02:52</td>\n",
       "      <td>22076581780</td>\n",
       "      <td>-2.884927e+10</td>\n",
       "    </tr>\n",
       "    <tr>\n",
       "      <th>2022-06-05</th>\n",
       "      <td>2022-06-05 23:50:57</td>\n",
       "      <td>73286894729</td>\n",
       "      <td>5.121031e+10</td>\n",
       "    </tr>\n",
       "    <tr>\n",
       "      <th>...</th>\n",
       "      <td>...</td>\n",
       "      <td>...</td>\n",
       "      <td>...</td>\n",
       "    </tr>\n",
       "    <tr>\n",
       "      <th>2023-05-16</th>\n",
       "      <td>2023-05-16 23:07:59</td>\n",
       "      <td>39454459644</td>\n",
       "      <td>-6.646110e+09</td>\n",
       "    </tr>\n",
       "    <tr>\n",
       "      <th>2023-05-17</th>\n",
       "      <td>2023-05-17 23:28:47</td>\n",
       "      <td>37511919821</td>\n",
       "      <td>-1.942540e+09</td>\n",
       "    </tr>\n",
       "    <tr>\n",
       "      <th>2023-05-18</th>\n",
       "      <td>2023-05-18 23:43:11</td>\n",
       "      <td>33310207590</td>\n",
       "      <td>-4.201712e+09</td>\n",
       "    </tr>\n",
       "    <tr>\n",
       "      <th>2023-05-19</th>\n",
       "      <td>2023-05-19 23:59:23</td>\n",
       "      <td>28548516604</td>\n",
       "      <td>-4.761691e+09</td>\n",
       "    </tr>\n",
       "    <tr>\n",
       "      <th>2023-05-20</th>\n",
       "      <td>2023-05-20 15:50:35</td>\n",
       "      <td>29012598570</td>\n",
       "      <td>4.640820e+08</td>\n",
       "    </tr>\n",
       "  </tbody>\n",
       "</table>\n",
       "<p>354 rows × 3 columns</p>\n",
       "</div>"
      ],
      "text/plain": [
       "                      timestamp    gas_price  gas_price_diff\n",
       "timestamp                                                   \n",
       "2022-06-01  2022-06-01 23:52:59  47331137724             NaN\n",
       "2022-06-02  2022-06-02 23:31:10  52125073354    4.793936e+09\n",
       "2022-06-03  2022-06-03 23:04:29  50925847852   -1.199226e+09\n",
       "2022-06-04  2022-06-04 23:02:52  22076581780   -2.884927e+10\n",
       "2022-06-05  2022-06-05 23:50:57  73286894729    5.121031e+10\n",
       "...                         ...          ...             ...\n",
       "2023-05-16  2023-05-16 23:07:59  39454459644   -6.646110e+09\n",
       "2023-05-17  2023-05-17 23:28:47  37511919821   -1.942540e+09\n",
       "2023-05-18  2023-05-18 23:43:11  33310207590   -4.201712e+09\n",
       "2023-05-19  2023-05-19 23:59:23  28548516604   -4.761691e+09\n",
       "2023-05-20  2023-05-20 15:50:35  29012598570    4.640820e+08\n",
       "\n",
       "[354 rows x 3 columns]"
      ]
     },
     "execution_count": 59,
     "metadata": {},
     "output_type": "execute_result"
    }
   ],
   "source": [
    "daily_gas_price_df"
   ]
  },
  {
   "cell_type": "code",
   "execution_count": 60,
   "id": "f40058e3-5dc2-479c-9f02-9ec884a88084",
   "metadata": {},
   "outputs": [],
   "source": [
    "# Drop NaN rows from the DataFrame\n",
    "daily_gas_price_df = daily_gas_price_df.dropna()"
   ]
  },
  {
   "cell_type": "markdown",
   "id": "0f0c18d1-231e-4fb1-bf88-0e868afe385d",
   "metadata": {},
   "source": [
    "### Step 8: Check Stationarity of the Differenced Data"
   ]
  },
  {
   "cell_type": "code",
   "execution_count": 61,
   "id": "47fbbc0d-f84e-44e7-8695-34cefe933254",
   "metadata": {},
   "outputs": [
    {
     "name": "stdout",
     "output_type": "stream",
     "text": [
      "p-value: 4.473536342752831e-19\n"
     ]
    },
    {
     "data": {
      "image/png": "[encoded data removed]",
      "text/plain": [
       "<Figure size 640x480 with 1 Axes>"
      ]
     },
     "metadata": {},
     "output_type": "display_data"
    }
   ],
   "source": [
    "# Perform Augmented Dickey-Fuller test on the differenced data\n",
    "adf_test = adfuller(daily_gas_price_df['gas_price_diff'])\n",
    "\n",
    "# Extract p-value from the test results\n",
    "print(f'p-value: {adf_test[1]}')\n",
    "\n",
    "# If p-value < 0.05, we can reject the null hypothesis and say that the data is stationary\n",
    "# Plot the differenced data\n",
    "plt.plot(daily_gas_price_df['gas_price_diff'])\n",
    "plt.title('Differenced gas prices')\n",
    "plt.show()\n"
   ]
  },
  {
   "cell_type": "code",
   "execution_count": 62,
   "id": "0f8b8241-81ec-4824-ae2e-e42384e353e3",
   "metadata": {},
   "outputs": [
    {
     "data": {
      "image/png": "[encoded data removed]",
      "text/plain": [
       "<Figure size 1200x800 with 2 Axes>"
      ]
     },
     "metadata": {},
     "output_type": "display_data"
    }
   ],
   "source": [
    "# Define the size of the plots\n",
    "fig, (ax1, ax2) = plt.subplots(2, 1, figsize=(12,8))\n",
    "\n",
    "# Plot the ACF on ax1\n",
    "plot_acf(daily_gas_price_df['gas_price_diff'], lags=50, zero=False, ax=ax1)\n",
    "\n",
    "# Plot the PACF on ax2\n",
    "plot_pacf(daily_gas_price_df['gas_price_diff'], lags=50, zero=False, ax=ax2)\n",
    "\n",
    "# Show the plots\n",
    "plt.show()"
   ]
  },
  {
   "cell_type": "code",
   "execution_count": 63,
   "id": "b495345f-1736-4f09-8b95-37d9547e9eab",
   "metadata": {
    "tags": []
   },
   "outputs": [
    {
     "data": {
      "image/png": "[encoded data removed]",
      "text/plain": [
       "<Figure size 640x480 with 1 Axes>"
      ]
     },
     "metadata": {},
     "output_type": "display_data"
    },
    {
     "data": {
      "text/plain": [
       "<Figure size 640x480 with 0 Axes>"
      ]
     },
     "metadata": {},
     "output_type": "display_data"
    },
    {
     "data": {
      "image/png": "[encoded data removed]",
      "text/plain": [
       "<Figure size 640x480 with 1 Axes>"
      ]
     },
     "metadata": {},
     "output_type": "display_data"
    }
   ],
   "source": [
    "# Autocorrelation plot\n",
    "plt.figure()\n",
    "pd.plotting.autocorrelation_plot(daily_gas_price_df['gas_price_diff'])\n",
    "plt.title('Autocorrelation Plot')\n",
    "\n",
    "# Partial Autocorrelation plot\n",
    "plt.figure()\n",
    "from statsmodels.graphics.tsaplots import plot_pacf\n",
    "plot_pacf(daily_gas_price_df['gas_price_diff'], lags=30,)\n",
    "plt.title('Partial Autocorrelation Plot')\n",
    "plt.show()"
   ]
  },
  {
   "cell_type": "markdown",
   "id": "55482f04-26c9-46ee-989f-d51cdea25590",
   "metadata": {},
   "source": [
    "### Step 9: Fit the ARIMA Model\n",
    "\n",
    "In this step, we will fit an ARIMA model to our dataset. ARIMA stands for AutoRegressive Integrated Moving Average. It is a class of model that captures a suite of different standard temporal structures in time series data.\n",
    "\n",
    "The parameters of the ARIMA model:\n",
    "\n",
    "* p: The number of lag observations in the model; also known as the lag order.\n",
    "* d: The number of times that the raw observations are differenced; also known as the degree of differencing.\n",
    "* q: The size of the moving average window; also known as the order of moving average.\n",
    "\n",
    "For each combination of parameters p, d, and q, we'll choose the model with the lowest Akaike Information Criterion (AIC). The AIC is a measure of the quality of each model, relative to each of the other models. The lower AIC score is better"
   ]
  },
  {
   "cell_type": "code",
   "execution_count": 64,
   "id": "7ff0e9d9-381f-40a3-976c-a0972c59a6d9",
   "metadata": {
    "tags": []
   },
   "outputs": [],
   "source": [
    "#Split data on train and test\n",
    "split_point = int(len(daily_gas_price_df) * 0.8)"
   ]
  },
  {
   "cell_type": "code",
   "execution_count": 65,
   "id": "50234391-a83a-45c7-99b4-8067caf0f250",
   "metadata": {
    "tags": []
   },
   "outputs": [],
   "source": [
    "# Define train and test\n",
    "train = daily_gas_price_df.iloc[:split_point]\n",
    "test = daily_gas_price_df.iloc[split_point:]"
   ]
  },
  {
   "cell_type": "code",
   "execution_count": 66,
   "id": "7e909975-1876-4467-9e2c-7557abc1411e",
   "metadata": {
    "tags": []
   },
   "outputs": [
    {
     "data": {
      "text/html": [
       "<div>\n",
       "<style scoped>\n",
       "    .dataframe tbody tr th:only-of-type {\n",
       "        vertical-align: middle;\n",
       "    }\n",
       "\n",
       "    .dataframe tbody tr th {\n",
       "        vertical-align: top;\n",
       "    }\n",
       "\n",
       "    .dataframe thead th {\n",
       "        text-align: right;\n",
       "    }\n",
       "</style>\n",
       "<table border=\"1\" class=\"dataframe\">\n",
       "  <thead>\n",
       "    <tr style=\"text-align: right;\">\n",
       "      <th></th>\n",
       "      <th>timestamp</th>\n",
       "      <th>gas_price</th>\n",
       "      <th>gas_price_diff</th>\n",
       "    </tr>\n",
       "    <tr>\n",
       "      <th>timestamp</th>\n",
       "      <th></th>\n",
       "      <th></th>\n",
       "      <th></th>\n",
       "    </tr>\n",
       "  </thead>\n",
       "  <tbody>\n",
       "    <tr>\n",
       "      <th>2022-06-02</th>\n",
       "      <td>2022-06-02 23:31:10</td>\n",
       "      <td>52125073354</td>\n",
       "      <td>4.793936e+09</td>\n",
       "    </tr>\n",
       "    <tr>\n",
       "      <th>2022-06-03</th>\n",
       "      <td>2022-06-03 23:04:29</td>\n",
       "      <td>50925847852</td>\n",
       "      <td>-1.199226e+09</td>\n",
       "    </tr>\n",
       "    <tr>\n",
       "      <th>2022-06-04</th>\n",
       "      <td>2022-06-04 23:02:52</td>\n",
       "      <td>22076581780</td>\n",
       "      <td>-2.884927e+10</td>\n",
       "    </tr>\n",
       "    <tr>\n",
       "      <th>2022-06-05</th>\n",
       "      <td>2022-06-05 23:50:57</td>\n",
       "      <td>73286894729</td>\n",
       "      <td>5.121031e+10</td>\n",
       "    </tr>\n",
       "    <tr>\n",
       "      <th>2022-06-06</th>\n",
       "      <td>2022-06-06 23:31:13</td>\n",
       "      <td>33258057747</td>\n",
       "      <td>-4.002884e+10</td>\n",
       "    </tr>\n",
       "  </tbody>\n",
       "</table>\n",
       "</div>"
      ],
      "text/plain": [
       "                      timestamp    gas_price  gas_price_diff\n",
       "timestamp                                                   \n",
       "2022-06-02  2022-06-02 23:31:10  52125073354    4.793936e+09\n",
       "2022-06-03  2022-06-03 23:04:29  50925847852   -1.199226e+09\n",
       "2022-06-04  2022-06-04 23:02:52  22076581780   -2.884927e+10\n",
       "2022-06-05  2022-06-05 23:50:57  73286894729    5.121031e+10\n",
       "2022-06-06  2022-06-06 23:31:13  33258057747   -4.002884e+10"
      ]
     },
     "execution_count": 66,
     "metadata": {},
     "output_type": "execute_result"
    }
   ],
   "source": [
    "train.head()"
   ]
  },
  {
   "cell_type": "code",
   "execution_count": 67,
   "id": "1db0a7ff-7933-4997-8f2a-c0341c909b4a",
   "metadata": {
    "tags": []
   },
   "outputs": [
    {
     "data": {
      "text/html": [
       "<div>\n",
       "<style scoped>\n",
       "    .dataframe tbody tr th:only-of-type {\n",
       "        vertical-align: middle;\n",
       "    }\n",
       "\n",
       "    .dataframe tbody tr th {\n",
       "        vertical-align: top;\n",
       "    }\n",
       "\n",
       "    .dataframe thead th {\n",
       "        text-align: right;\n",
       "    }\n",
       "</style>\n",
       "<table border=\"1\" class=\"dataframe\">\n",
       "  <thead>\n",
       "    <tr style=\"text-align: right;\">\n",
       "      <th></th>\n",
       "      <th>timestamp</th>\n",
       "      <th>gas_price</th>\n",
       "      <th>gas_price_diff</th>\n",
       "    </tr>\n",
       "    <tr>\n",
       "      <th>timestamp</th>\n",
       "      <th></th>\n",
       "      <th></th>\n",
       "      <th></th>\n",
       "    </tr>\n",
       "  </thead>\n",
       "  <tbody>\n",
       "    <tr>\n",
       "      <th>2023-05-16</th>\n",
       "      <td>2023-05-16 23:07:59</td>\n",
       "      <td>39454459644</td>\n",
       "      <td>-6.646110e+09</td>\n",
       "    </tr>\n",
       "    <tr>\n",
       "      <th>2023-05-17</th>\n",
       "      <td>2023-05-17 23:28:47</td>\n",
       "      <td>37511919821</td>\n",
       "      <td>-1.942540e+09</td>\n",
       "    </tr>\n",
       "    <tr>\n",
       "      <th>2023-05-18</th>\n",
       "      <td>2023-05-18 23:43:11</td>\n",
       "      <td>33310207590</td>\n",
       "      <td>-4.201712e+09</td>\n",
       "    </tr>\n",
       "    <tr>\n",
       "      <th>2023-05-19</th>\n",
       "      <td>2023-05-19 23:59:23</td>\n",
       "      <td>28548516604</td>\n",
       "      <td>-4.761691e+09</td>\n",
       "    </tr>\n",
       "    <tr>\n",
       "      <th>2023-05-20</th>\n",
       "      <td>2023-05-20 15:50:35</td>\n",
       "      <td>29012598570</td>\n",
       "      <td>4.640820e+08</td>\n",
       "    </tr>\n",
       "  </tbody>\n",
       "</table>\n",
       "</div>"
      ],
      "text/plain": [
       "                      timestamp    gas_price  gas_price_diff\n",
       "timestamp                                                   \n",
       "2023-05-16  2023-05-16 23:07:59  39454459644   -6.646110e+09\n",
       "2023-05-17  2023-05-17 23:28:47  37511919821   -1.942540e+09\n",
       "2023-05-18  2023-05-18 23:43:11  33310207590   -4.201712e+09\n",
       "2023-05-19  2023-05-19 23:59:23  28548516604   -4.761691e+09\n",
       "2023-05-20  2023-05-20 15:50:35  29012598570    4.640820e+08"
      ]
     },
     "execution_count": 67,
     "metadata": {},
     "output_type": "execute_result"
    }
   ],
   "source": [
    "test.tail()"
   ]
  },
  {
   "cell_type": "code",
   "execution_count": 71,
   "id": "4caa17da-0afc-417b-a51d-f026dadf4735",
   "metadata": {
    "tags": []
   },
   "outputs": [
    {
     "name": "stderr",
     "output_type": "stream",
     "text": [
      "/Users/lexx/opt/anaconda3/envs/blockchain/lib/python3.8/site-packages/statsmodels/base/model.py:607: ConvergenceWarning: Maximum Likelihood optimization failed to converge. Check mle_retvals\n",
      "  warnings.warn(\"Maximum Likelihood optimization failed to \"\n",
      "/Users/lexx/opt/anaconda3/envs/blockchain/lib/python3.8/site-packages/statsmodels/tsa/statespace/sarimax.py:966: UserWarning: Non-stationary starting autoregressive parameters found. Using zeros as starting parameters.\n",
      "  warn('Non-stationary starting autoregressive parameters'\n",
      "/Users/lexx/opt/anaconda3/envs/blockchain/lib/python3.8/site-packages/statsmodels/tsa/statespace/sarimax.py:978: UserWarning: Non-invertible starting MA parameters found. Using zeros as starting parameters.\n",
      "  warn('Non-invertible starting MA parameters found.'\n",
      "/Users/lexx/opt/anaconda3/envs/blockchain/lib/python3.8/site-packages/statsmodels/tsa/statespace/sarimax.py:978: UserWarning: Non-invertible starting MA parameters found. Using zeros as starting parameters.\n",
      "  warn('Non-invertible starting MA parameters found.'\n"
     ]
    },
    {
     "name": "stdout",
     "output_type": "stream",
     "text": [
      "The best ARIMA model is (0, 2, 2)\n"
     ]
    }
   ],
   "source": [
    "# Define the p, d and q parameters to take any value between 0 and 3 \n",
    "p = d = q = range(0, 3)\n",
    "\n",
    "# Generate all different combinations of p, d and q triplets\n",
    "# So we can iterate over these combinations and find the best parameters for our model\n",
    "pdq = list(itertools.product(p, d, q))\n",
    "\n",
    "# Create an empty dictionary to store the evaluation metrics of the models we'll try\n",
    "# Create dictionary for the performance of each model\n",
    "models_metrics = {}\n",
    "\n",
    "# Loop over all the combinations of p, d, q\n",
    "for param in pdq:\n",
    "    try:\n",
    "        # Fit the ARIMA model with the current combination of parameters\n",
    "        model = ARIMA(train['gas_price'], order=param)\n",
    "        model_fit = model.fit()\n",
    "\n",
    "        # Get the Akaike Information Criterion (AIC) of the model\n",
    "        # The AIC is a measure of the quality of the model: the lower, the better\n",
    "        models_metrics[param] = model_fit.aic\n",
    "    except:\n",
    "        # In case the model cannot be fit with the current combination of parameters, we continue to the next one\n",
    "        continue\n",
    "\n",
    "# Print the best model\n",
    "best_model = min(models_metrics, key=models_metrics.get)\n",
    "print('The best ARIMA model is {}'.format(best_model))\n"
   ]
  },
  {
   "cell_type": "code",
   "execution_count": 72,
   "id": "19ed8780-e3f5-48b9-bde8-ff755a31468e",
   "metadata": {
    "tags": []
   },
   "outputs": [
    {
     "name": "stdout",
     "output_type": "stream",
     "text": [
      "Model (0, 0, 0) has AIC: 15540.422116413596\n",
      "Model (0, 0, 1) has AIC: 14216.330012863262\n",
      "Model (0, 0, 2) has AIC: 14204.891667647946\n",
      "Model (0, 1, 0) has AIC: 941800.6633042472\n",
      "Model (0, 1, 1) has AIC: 14140.40911248892\n",
      "Model (0, 1, 2) has AIC: 14142.408696138464\n",
      "Model (0, 2, 0) has AIC: 9.993374545852183e+26\n",
      "Model (0, 2, 1) has AIC: 14106.365826017689\n",
      "Model (0, 2, 2) has AIC: 14100.686149823596\n",
      "Model (1, 0, 0) has AIC: 14200.680764632023\n",
      "Model (1, 0, 1) has AIC: 14195.171855605986\n",
      "Model (1, 0, 2) has AIC: 14197.172819265537\n",
      "Model (1, 1, 0) has AIC: 14141.809234391894\n",
      "Model (1, 1, 1) has AIC: 14142.407644503299\n",
      "Model (1, 1, 2) has AIC: 14144.338779633876\n",
      "Model (1, 2, 0) has AIC: 14124.50590862587\n",
      "Model (1, 2, 1) has AIC: 14101.426493889336\n",
      "Model (1, 2, 2) has AIC: 14102.57387960076\n",
      "Model (2, 0, 0) has AIC: 14195.269154974736\n",
      "Model (2, 0, 1) has AIC: 14197.270115262145\n",
      "Model (2, 0, 2) has AIC: 14198.176456926438\n",
      "Model (2, 1, 0) has AIC: 14143.257326009076\n",
      "Model (2, 1, 1) has AIC: 14143.646637236454\n",
      "Model (2, 1, 2) has AIC: 14145.59947986267\n",
      "Model (2, 2, 0) has AIC: 14113.912818236802\n",
      "Model (2, 2, 1) has AIC: 14103.086365758067\n",
      "Model (2, 2, 2) has AIC: 14103.969736584604\n",
      "\n",
      "The best ARIMA model is (0, 2, 2) with AIC: 14100.686149823596\n"
     ]
    }
   ],
   "source": [
    "# Print all model metrics 14100.686149823596\n",
    "for model, metric in models_metrics.items():\n",
    "    print(f'Model {model} has AIC: {metric}')\n",
    "    \n",
    "# Print the best model\n",
    "best_model = min(models_metrics, key=models_metrics.get)\n",
    "print(f'\\nThe best ARIMA model is {best_model} with AIC: {models_metrics[best_model]}')"
   ]
  },
  {
   "cell_type": "markdown",
   "id": "fc960b76-5588-4e0e-a064-76549137bb82",
   "metadata": {},
   "source": [
    "### Step10: Plot Residuals.\n",
    "After selecting the best model parameters based on the AIC, we will fit the model with these parameters and examine the residuals. The residuals of the model are important, they can give us insight into how well our model is performing. \n",
    "We'll plot the residuals over time and their density plot. The first plot gives us an idea of how the residuals are distributed over time. The second one, the density plot, should ideally follow a normal distribution centered around zero."
   ]
  },
  {
   "cell_type": "code",
   "execution_count": 73,
   "id": "9beb7299-7ffc-4421-9a6b-b0b37ca7ab8c",
   "metadata": {
    "tags": []
   },
   "outputs": [
    {
     "data": {
      "image/png": "[encoded data removed]",
      "text/plain": [
       "<Figure size 640x480 with 1 Axes>"
      ]
     },
     "metadata": {},
     "output_type": "display_data"
    },
    {
     "data": {
      "image/png": "[encoded data removed]",
      "text/plain": [
       "<Figure size 640x480 with 1 Axes>"
      ]
     },
     "metadata": {},
     "output_type": "display_data"
    },
    {
     "name": "stdout",
     "output_type": "stream",
     "text": [
      "                  0\n",
      "count  2.820000e+02\n",
      "mean   5.765487e+08\n",
      "std    2.093654e+10\n",
      "min   -5.385868e+10\n",
      "25%   -2.546745e+09\n",
      "50%   -3.434607e+08\n",
      "75%    1.438662e+09\n",
      "max    3.235802e+11\n"
     ]
    }
   ],
   "source": [
    "# Fit the model with the best parameters\n",
    "best_p, best_d, best_q = best_model\n",
    "model = ARIMA(train['gas_price'], order=(best_p, best_d, best_q))\n",
    "best_model_fit = model.fit()\n",
    "\n",
    "# Plot residuals\n",
    "residuals = pd.DataFrame(best_model_fit.resid)\n",
    "residuals.plot(title = \"Residuals\")\n",
    "plt.show()\n",
    "\n",
    "# Plot density of residuals\n",
    "residuals.plot(kind='kde',\n",
    "              title =\"Density\")\n",
    "plt.show()\n",
    "\n",
    "# Print the statistics of the residuals\n",
    "print(residuals.describe())"
   ]
  },
  {
   "cell_type": "code",
   "execution_count": 74,
   "id": "a9fd1a5b-1d42-4323-a576-35521efade77",
   "metadata": {
    "tags": []
   },
   "outputs": [
    {
     "name": "stdout",
     "output_type": "stream",
     "text": [
      "                               SARIMAX Results                                \n",
      "==============================================================================\n",
      "Dep. Variable:              gas_price   No. Observations:                  282\n",
      "Model:                 ARIMA(0, 2, 2)   Log Likelihood               -7047.343\n",
      "Date:                Wed, 24 May 2023   AIC                          14100.686\n",
      "Time:                        23:07:38   BIC                          14111.591\n",
      "Sample:                    06-02-2022   HQIC                         14105.060\n",
      "                         - 03-10-2023                                         \n",
      "Covariance Type:                  opg                                         \n",
      "==============================================================================\n",
      "                 coef    std err          z      P>|z|      [0.025      0.975]\n",
      "------------------------------------------------------------------------------\n",
      "ma.L1         -1.4755      0.308     -4.798      0.000      -2.078      -0.873\n",
      "ma.L2          0.4999      0.253      1.974      0.048       0.004       0.996\n",
      "sigma2      4.329e+20        nan        nan        nan         nan         nan\n",
      "===================================================================================\n",
      "Ljung-Box (L1) (Q):                   0.00   Jarque-Bera (JB):            550545.88\n",
      "Prob(Q):                              0.99   Prob(JB):                         0.00\n",
      "Heteroskedasticity (H):               9.37   Skew:                            13.82\n",
      "Prob(H) (two-sided):                  0.00   Kurtosis:                       218.47\n",
      "===================================================================================\n",
      "\n",
      "Warnings:\n",
      "[1] Covariance matrix calculated using the outer product of gradients (complex-step).\n",
      "[2] Covariance matrix is singular or near-singular, with condition number 1.05e+56. Standard errors may be unstable.\n"
     ]
    }
   ],
   "source": [
    "# Print the best model's summary\n",
    "print(best_model_fit.summary())"
   ]
  },
  {
   "cell_type": "markdown",
   "id": "0dc76c14-0b02-424e-975d-af3756b0306f",
   "metadata": {},
   "source": [
    "### Step 11: Check Autocorrelation of Residuals\n",
    "Plot the ACF and PACF of the residuals. If the residuals are uncorrelated, most of the spikes in the ACF and PACF within the blue shaded area would not be significantly different from zero, and there's no pattern to the points. If not, the model might need to be refined."
   ]
  },
  {
   "cell_type": "code",
   "execution_count": 75,
   "id": "71ff74ab-75ee-4d96-9b95-06e9bffd0129",
   "metadata": {
    "tags": []
   },
   "outputs": [
    {
     "data": {
      "image/png": "[encoded data removed]",
      "text/plain": [
       "<Figure size 800x800 with 2 Axes>"
      ]
     },
     "metadata": {},
     "output_type": "display_data"
    }
   ],
   "source": [
    "# Create figure\n",
    "fig, (ax1, ax2) = plt.subplots(2,1, figsize=(8,8))\n",
    "\n",
    "# Plot the ACF of residuals\n",
    "plot_acf(residuals, ax=ax1)\n",
    "\n",
    "# Plot the PACF of residuals\n",
    "plot_pacf(residuals, ax=ax2)\n",
    "\n",
    "plt.show()\n"
   ]
  },
  {
   "cell_type": "markdown",
   "id": "5ad4672b-1845-4345-ab45-58aa3beb4f57",
   "metadata": {},
   "source": [
    "#### Step 13: Rolling Window Forecast with 7-day window and 1-day forecast\n",
    "We are using rolling window of the last 7 days' data to make a prediction for the next day. The rolling window moves one day at a time through the data, so we have a prediction for each day from the 8th day onwards based on the previous 7 days' data."
   ]
  },
  {
   "cell_type": "code",
   "execution_count": 76,
   "id": "a14f3560-5fd4-4a30-a6f0-530fd53f4836",
   "metadata": {
    "tags": []
   },
   "outputs": [],
   "source": [
    "# Define a function for the rolling forecast using ARIMA model\n",
    "def arima_rolling_forecast(train, order, window_size=7):\n",
    "    \"\"\"\n",
    "    Perform a rolling forecast using an ARIMA model with specified window size.\n",
    "\n",
    "    Parameters:\n",
    "    train (array-like): The training data.\n",
    "    order (tuple): The order of the ARIMA model.\n",
    "    window_size (int): The size of the rolling window.\n",
    "\n",
    "    Returns:\n",
    "    predictions (list): The forecasts for the test data.\n",
    "    \"\"\"\n",
    "    predictions = []\n",
    "\n",
    "    for i in range(0, len(train) - window_size):\n",
    "        # Fit the ARIMA model on a window of data and make a one-step forecast\n",
    "        window_data = train[i: i + window_size]\n",
    "        model = ARIMA(window_data, order=order)\n",
    "        model_fit = model.fit()\n",
    "        yhat = model_fit.forecast()[0]\n",
    "        # Add the forecast to the list of predictions\n",
    "        predictions.append(yhat)\n",
    "\n",
    "    return predictions\n"
   ]
  },
  {
   "cell_type": "code",
   "execution_count": 77,
   "id": "a3e6c351-6653-4476-8096-7bcf3f7aad61",
   "metadata": {
    "tags": []
   },
   "outputs": [],
   "source": [
    "# Set the best order from the previous step\n",
    "order = (best_p, best_d, best_q)\n"
   ]
  },
  {
   "cell_type": "code",
   "execution_count": 78,
   "id": "ddb09eaf-8d9d-4084-a02b-5b33f89d8508",
   "metadata": {
    "tags": []
   },
   "outputs": [
    {
     "name": "stderr",
     "output_type": "stream",
     "text": [
      "/Users/lexx/opt/anaconda3/envs/blockchain/lib/python3.8/site-packages/statsmodels/tsa/statespace/sarimax.py:866: UserWarning: Too few observations to estimate starting parameters for ARMA and trend. All parameters except for variances will be set to zeros.\n",
      "  warn('Too few observations to estimate starting parameters%s.'\n",
      "/Users/lexx/opt/anaconda3/envs/blockchain/lib/python3.8/site-packages/statsmodels/base/model.py:607: ConvergenceWarning: Maximum Likelihood optimization failed to converge. Check mle_retvals\n",
      "  warnings.warn(\"Maximum Likelihood optimization failed to \"\n",
      "/Users/lexx/opt/anaconda3/envs/blockchain/lib/python3.8/site-packages/statsmodels/base/model.py:607: ConvergenceWarning: Maximum Likelihood optimization failed to converge. Check mle_retvals\n",
      "  warnings.warn(\"Maximum Likelihood optimization failed to \"\n",
      "/Users/lexx/opt/anaconda3/envs/blockchain/lib/python3.8/site-packages/statsmodels/base/model.py:607: ConvergenceWarning: Maximum Likelihood optimization failed to converge. Check mle_retvals\n",
      "  warnings.warn(\"Maximum Likelihood optimization failed to \"\n",
      "/var/folders/y3/0gtkw91d1jq03869hnhbpd880000gn/T/ipykernel_1334/1596120903.py:5: SettingWithCopyWarning: \n",
      "A value is trying to be set on a copy of a slice from a DataFrame.\n",
      "Try using .loc[row_indexer,col_indexer] = value instead\n",
      "\n",
      "See the caveats in the documentation: https://pandas.pydata.org/pandas-docs/stable/user_guide/indexing.html#returning-a-view-versus-a-copy\n",
      "  daily_gas_price_df['rolling_forecast'] = None\n"
     ]
    }
   ],
   "source": [
    "# Use the function to forecast the test data\n",
    "rolling_forecast = arima_rolling_forecast(daily_gas_price_df['gas_price'].values, order, window_size=7)\n",
    "\n",
    "# Add the rolling forecast to the DataFrame\n",
    "daily_gas_price_df['rolling_forecast'] = None\n",
    "daily_gas_price_df.loc[daily_gas_price_df.index[7:7+len(rolling_forecast)], 'rolling_forecast'] = rolling_forecast"
   ]
  },
  {
   "cell_type": "code",
   "execution_count": 79,
   "id": "64049652-7efd-4f49-9acd-9ee9baed61ca",
   "metadata": {
    "tags": []
   },
   "outputs": [
    {
     "data": {
      "image/png": "[encoded data removed]",
      "text/plain": [
       "<Figure size 1200x600 with 1 Axes>"
      ]
     },
     "metadata": {},
     "output_type": "display_data"
    }
   ],
   "source": [
    "plt.figure(figsize=(12,6))\n",
    "plt.plot(daily_gas_price_df.index, daily_gas_price_df['gas_price'], label='Gas Price')\n",
    "plt.plot(daily_gas_price_df.index, daily_gas_price_df['rolling_forecast'], label='Rolling Forecast')\n",
    "plt.legend(loc='best')\n",
    "plt.title('Gas Price: Actual vs Predicted with Rolling Window Forecast')\n",
    "plt.show()"
   ]
  },
  {
   "cell_type": "code",
   "execution_count": 80,
   "id": "d3a857e5-139e-4402-a2be-cf88d877c9e7",
   "metadata": {
    "tags": []
   },
   "outputs": [
    {
     "data": {
      "text/html": [
       "<div>\n",
       "<style scoped>\n",
       "    .dataframe tbody tr th:only-of-type {\n",
       "        vertical-align: middle;\n",
       "    }\n",
       "\n",
       "    .dataframe tbody tr th {\n",
       "        vertical-align: top;\n",
       "    }\n",
       "\n",
       "    .dataframe thead th {\n",
       "        text-align: right;\n",
       "    }\n",
       "</style>\n",
       "<table border=\"1\" class=\"dataframe\">\n",
       "  <thead>\n",
       "    <tr style=\"text-align: right;\">\n",
       "      <th></th>\n",
       "      <th>timestamp</th>\n",
       "      <th>gas_price</th>\n",
       "      <th>gas_price_diff</th>\n",
       "      <th>rolling_forecast</th>\n",
       "    </tr>\n",
       "    <tr>\n",
       "      <th>timestamp</th>\n",
       "      <th></th>\n",
       "      <th></th>\n",
       "      <th></th>\n",
       "      <th></th>\n",
       "    </tr>\n",
       "  </thead>\n",
       "  <tbody>\n",
       "    <tr>\n",
       "      <th>2022-06-02</th>\n",
       "      <td>2022-06-02 23:31:10</td>\n",
       "      <td>52125073354</td>\n",
       "      <td>4.793936e+09</td>\n",
       "      <td>None</td>\n",
       "    </tr>\n",
       "    <tr>\n",
       "      <th>2022-06-03</th>\n",
       "      <td>2022-06-03 23:04:29</td>\n",
       "      <td>50925847852</td>\n",
       "      <td>-1.199226e+09</td>\n",
       "      <td>None</td>\n",
       "    </tr>\n",
       "    <tr>\n",
       "      <th>2022-06-04</th>\n",
       "      <td>2022-06-04 23:02:52</td>\n",
       "      <td>22076581780</td>\n",
       "      <td>-2.884927e+10</td>\n",
       "      <td>None</td>\n",
       "    </tr>\n",
       "    <tr>\n",
       "      <th>2022-06-05</th>\n",
       "      <td>2022-06-05 23:50:57</td>\n",
       "      <td>73286894729</td>\n",
       "      <td>5.121031e+10</td>\n",
       "      <td>None</td>\n",
       "    </tr>\n",
       "    <tr>\n",
       "      <th>2022-06-06</th>\n",
       "      <td>2022-06-06 23:31:13</td>\n",
       "      <td>33258057747</td>\n",
       "      <td>-4.002884e+10</td>\n",
       "      <td>None</td>\n",
       "    </tr>\n",
       "    <tr>\n",
       "      <th>2022-06-07</th>\n",
       "      <td>2022-06-07 23:06:10</td>\n",
       "      <td>42772752073</td>\n",
       "      <td>9.514694e+09</td>\n",
       "      <td>None</td>\n",
       "    </tr>\n",
       "    <tr>\n",
       "      <th>2022-06-08</th>\n",
       "      <td>2022-06-08 23:51:13</td>\n",
       "      <td>33950590546</td>\n",
       "      <td>-8.822162e+09</td>\n",
       "      <td>None</td>\n",
       "    </tr>\n",
       "    <tr>\n",
       "      <th>2022-06-09</th>\n",
       "      <td>2022-06-09 23:38:12</td>\n",
       "      <td>37571748480</td>\n",
       "      <td>3.621158e+09</td>\n",
       "      <td>25916648638.250771</td>\n",
       "    </tr>\n",
       "    <tr>\n",
       "      <th>2022-06-10</th>\n",
       "      <td>2022-06-10 23:30:45</td>\n",
       "      <td>21524372904</td>\n",
       "      <td>-1.604738e+10</td>\n",
       "      <td>26693623394.585194</td>\n",
       "    </tr>\n",
       "    <tr>\n",
       "      <th>2022-06-11</th>\n",
       "      <td>2022-06-11 22:57:54</td>\n",
       "      <td>27199228191</td>\n",
       "      <td>5.674855e+09</td>\n",
       "      <td>14825008001.240971</td>\n",
       "    </tr>\n",
       "    <tr>\n",
       "      <th>2022-06-12</th>\n",
       "      <td>2022-06-12 22:55:51</td>\n",
       "      <td>56964957007</td>\n",
       "      <td>2.976573e+10</td>\n",
       "      <td>23481539745.512714</td>\n",
       "    </tr>\n",
       "    <tr>\n",
       "      <th>2022-06-13</th>\n",
       "      <td>2022-06-13 22:52:41</td>\n",
       "      <td>55481476757</td>\n",
       "      <td>-1.483480e+09</td>\n",
       "      <td>71030031498.806107</td>\n",
       "    </tr>\n",
       "    <tr>\n",
       "      <th>2022-06-14</th>\n",
       "      <td>2022-06-14 23:02:28</td>\n",
       "      <td>34832304808</td>\n",
       "      <td>-2.064917e+10</td>\n",
       "      <td>61073497578.687576</td>\n",
       "    </tr>\n",
       "    <tr>\n",
       "      <th>2022-06-15</th>\n",
       "      <td>2022-06-15 23:03:19</td>\n",
       "      <td>22331177831</td>\n",
       "      <td>-1.250113e+10</td>\n",
       "      <td>29828239697.528336</td>\n",
       "    </tr>\n",
       "    <tr>\n",
       "      <th>2022-06-16</th>\n",
       "      <td>2022-06-16 22:51:59</td>\n",
       "      <td>19461591812</td>\n",
       "      <td>-2.869586e+09</td>\n",
       "      <td>19912630535.461082</td>\n",
       "    </tr>\n",
       "    <tr>\n",
       "      <th>2022-06-17</th>\n",
       "      <td>2022-06-17 22:45:48</td>\n",
       "      <td>26841604151</td>\n",
       "      <td>7.380012e+09</td>\n",
       "      <td>20740578441.89259</td>\n",
       "    </tr>\n",
       "    <tr>\n",
       "      <th>2022-06-18</th>\n",
       "      <td>2022-06-18 23:53:34</td>\n",
       "      <td>19403618417</td>\n",
       "      <td>-7.437986e+09</td>\n",
       "      <td>35317820896.649582</td>\n",
       "    </tr>\n",
       "    <tr>\n",
       "      <th>2022-06-19</th>\n",
       "      <td>2022-06-19 22:49:20</td>\n",
       "      <td>26371155744</td>\n",
       "      <td>6.967537e+09</td>\n",
       "      <td>9934367709.482294</td>\n",
       "    </tr>\n",
       "    <tr>\n",
       "      <th>2022-06-20</th>\n",
       "      <td>2022-06-20 22:45:03</td>\n",
       "      <td>25440105678</td>\n",
       "      <td>-9.310501e+08</td>\n",
       "      <td>31335029874.159233</td>\n",
       "    </tr>\n",
       "    <tr>\n",
       "      <th>2022-06-21</th>\n",
       "      <td>2022-06-21 23:28:16</td>\n",
       "      <td>39411148135</td>\n",
       "      <td>1.397104e+10</td>\n",
       "      <td>26709914674.135567</td>\n",
       "    </tr>\n",
       "    <tr>\n",
       "      <th>2022-06-22</th>\n",
       "      <td>2022-06-22 23:05:24</td>\n",
       "      <td>22168390426</td>\n",
       "      <td>-1.724276e+10</td>\n",
       "      <td>50724556233.823059</td>\n",
       "    </tr>\n",
       "    <tr>\n",
       "      <th>2022-06-23</th>\n",
       "      <td>2022-06-23 23:53:53</td>\n",
       "      <td>19933334852</td>\n",
       "      <td>-2.235056e+09</td>\n",
       "      <td>28760687472.979877</td>\n",
       "    </tr>\n",
       "    <tr>\n",
       "      <th>2022-06-24</th>\n",
       "      <td>2022-06-24 23:08:07</td>\n",
       "      <td>24397473137</td>\n",
       "      <td>4.464138e+09</td>\n",
       "      <td>16241011860.956879</td>\n",
       "    </tr>\n",
       "    <tr>\n",
       "      <th>2022-06-25</th>\n",
       "      <td>2022-06-25 22:55:31</td>\n",
       "      <td>25504010118</td>\n",
       "      <td>1.106537e+09</td>\n",
       "      <td>18674443996.247723</td>\n",
       "    </tr>\n",
       "    <tr>\n",
       "      <th>2022-06-26</th>\n",
       "      <td>2022-06-26 23:41:35</td>\n",
       "      <td>15196975885</td>\n",
       "      <td>-1.030703e+10</td>\n",
       "      <td>26896931493.341755</td>\n",
       "    </tr>\n",
       "    <tr>\n",
       "      <th>2022-06-27</th>\n",
       "      <td>2022-06-27 23:12:07</td>\n",
       "      <td>15422777563</td>\n",
       "      <td>2.258017e+08</td>\n",
       "      <td>5628964148.817589</td>\n",
       "    </tr>\n",
       "    <tr>\n",
       "      <th>2022-06-28</th>\n",
       "      <td>2022-06-28 22:49:48</td>\n",
       "      <td>27672369648</td>\n",
       "      <td>1.224959e+10</td>\n",
       "      <td>14903482512.783049</td>\n",
       "    </tr>\n",
       "    <tr>\n",
       "      <th>2022-06-29</th>\n",
       "      <td>2022-06-29 23:40:18</td>\n",
       "      <td>51935318694</td>\n",
       "      <td>2.426295e+10</td>\n",
       "      <td>33933543262.585327</td>\n",
       "    </tr>\n",
       "    <tr>\n",
       "      <th>2022-06-30</th>\n",
       "      <td>2022-06-30 23:56:43</td>\n",
       "      <td>11531572807</td>\n",
       "      <td>-4.040375e+10</td>\n",
       "      <td>82164821752.958649</td>\n",
       "    </tr>\n",
       "    <tr>\n",
       "      <th>2022-07-01</th>\n",
       "      <td>2022-07-01 23:33:01</td>\n",
       "      <td>9456770868</td>\n",
       "      <td>-2.074802e+09</td>\n",
       "      <td>33150867860.617027</td>\n",
       "    </tr>\n",
       "    <tr>\n",
       "      <th>2022-07-02</th>\n",
       "      <td>2022-07-02 23:07:06</td>\n",
       "      <td>7460197219</td>\n",
       "      <td>-1.996574e+09</td>\n",
       "      <td>12102866763.290932</td>\n",
       "    </tr>\n",
       "    <tr>\n",
       "      <th>2022-07-03</th>\n",
       "      <td>2022-07-03 23:43:36</td>\n",
       "      <td>15988442445</td>\n",
       "      <td>8.528245e+09</td>\n",
       "      <td>2692416575.687567</td>\n",
       "    </tr>\n",
       "    <tr>\n",
       "      <th>2022-07-04</th>\n",
       "      <td>2022-07-04 23:07:58</td>\n",
       "      <td>11268648591</td>\n",
       "      <td>-4.719794e+09</td>\n",
       "      <td>15925017343.436563</td>\n",
       "    </tr>\n",
       "    <tr>\n",
       "      <th>2022-07-05</th>\n",
       "      <td>2022-07-05 23:45:02</td>\n",
       "      <td>10883469224</td>\n",
       "      <td>-3.851794e+08</td>\n",
       "      <td>12476006798.150383</td>\n",
       "    </tr>\n",
       "    <tr>\n",
       "      <th>2022-07-06</th>\n",
       "      <td>2022-07-06 23:21:58</td>\n",
       "      <td>7720869642</td>\n",
       "      <td>-3.162600e+09</td>\n",
       "      <td>10612949978.437727</td>\n",
       "    </tr>\n",
       "    <tr>\n",
       "      <th>2022-07-07</th>\n",
       "      <td>2022-07-07 23:48:23</td>\n",
       "      <td>14845995124</td>\n",
       "      <td>7.125125e+09</td>\n",
       "      <td>6414465829.017293</td>\n",
       "    </tr>\n",
       "    <tr>\n",
       "      <th>2022-07-08</th>\n",
       "      <td>2022-07-08 23:27:47</td>\n",
       "      <td>12518560640</td>\n",
       "      <td>-2.327434e+09</td>\n",
       "      <td>14396196822.301256</td>\n",
       "    </tr>\n",
       "    <tr>\n",
       "      <th>2022-07-09</th>\n",
       "      <td>2022-07-09 23:49:26</td>\n",
       "      <td>5672358977</td>\n",
       "      <td>-6.846202e+09</td>\n",
       "      <td>14267893436.448278</td>\n",
       "    </tr>\n",
       "    <tr>\n",
       "      <th>2022-07-10</th>\n",
       "      <td>2022-07-10 23:19:28</td>\n",
       "      <td>10203458516</td>\n",
       "      <td>4.531100e+09</td>\n",
       "      <td>3356349856.599479</td>\n",
       "    </tr>\n",
       "    <tr>\n",
       "      <th>2022-07-11</th>\n",
       "      <td>2022-07-11 23:48:09</td>\n",
       "      <td>14595957760</td>\n",
       "      <td>4.392499e+09</td>\n",
       "      <td>15804249376.93858</td>\n",
       "    </tr>\n",
       "  </tbody>\n",
       "</table>\n",
       "</div>"
      ],
      "text/plain": [
       "                      timestamp    gas_price  gas_price_diff  \\\n",
       "timestamp                                                      \n",
       "2022-06-02  2022-06-02 23:31:10  52125073354    4.793936e+09   \n",
       "2022-06-03  2022-06-03 23:04:29  50925847852   -1.199226e+09   \n",
       "2022-06-04  2022-06-04 23:02:52  22076581780   -2.884927e+10   \n",
       "2022-06-05  2022-06-05 23:50:57  73286894729    5.121031e+10   \n",
       "2022-06-06  2022-06-06 23:31:13  33258057747   -4.002884e+10   \n",
       "2022-06-07  2022-06-07 23:06:10  42772752073    9.514694e+09   \n",
       "2022-06-08  2022-06-08 23:51:13  33950590546   -8.822162e+09   \n",
       "2022-06-09  2022-06-09 23:38:12  37571748480    3.621158e+09   \n",
       "2022-06-10  2022-06-10 23:30:45  21524372904   -1.604738e+10   \n",
       "2022-06-11  2022-06-11 22:57:54  27199228191    5.674855e+09   \n",
       "2022-06-12  2022-06-12 22:55:51  56964957007    2.976573e+10   \n",
       "2022-06-13  2022-06-13 22:52:41  55481476757   -1.483480e+09   \n",
       "2022-06-14  2022-06-14 23:02:28  34832304808   -2.064917e+10   \n",
       "2022-06-15  2022-06-15 23:03:19  22331177831   -1.250113e+10   \n",
       "2022-06-16  2022-06-16 22:51:59  19461591812   -2.869586e+09   \n",
       "2022-06-17  2022-06-17 22:45:48  26841604151    7.380012e+09   \n",
       "2022-06-18  2022-06-18 23:53:34  19403618417   -7.437986e+09   \n",
       "2022-06-19  2022-06-19 22:49:20  26371155744    6.967537e+09   \n",
       "2022-06-20  2022-06-20 22:45:03  25440105678   -9.310501e+08   \n",
       "2022-06-21  2022-06-21 23:28:16  39411148135    1.397104e+10   \n",
       "2022-06-22  2022-06-22 23:05:24  22168390426   -1.724276e+10   \n",
       "2022-06-23  2022-06-23 23:53:53  19933334852   -2.235056e+09   \n",
       "2022-06-24  2022-06-24 23:08:07  24397473137    4.464138e+09   \n",
       "2022-06-25  2022-06-25 22:55:31  25504010118    1.106537e+09   \n",
       "2022-06-26  2022-06-26 23:41:35  15196975885   -1.030703e+10   \n",
       "2022-06-27  2022-06-27 23:12:07  15422777563    2.258017e+08   \n",
       "2022-06-28  2022-06-28 22:49:48  27672369648    1.224959e+10   \n",
       "2022-06-29  2022-06-29 23:40:18  51935318694    2.426295e+10   \n",
       "2022-06-30  2022-06-30 23:56:43  11531572807   -4.040375e+10   \n",
       "2022-07-01  2022-07-01 23:33:01   9456770868   -2.074802e+09   \n",
       "2022-07-02  2022-07-02 23:07:06   7460197219   -1.996574e+09   \n",
       "2022-07-03  2022-07-03 23:43:36  15988442445    8.528245e+09   \n",
       "2022-07-04  2022-07-04 23:07:58  11268648591   -4.719794e+09   \n",
       "2022-07-05  2022-07-05 23:45:02  10883469224   -3.851794e+08   \n",
       "2022-07-06  2022-07-06 23:21:58   7720869642   -3.162600e+09   \n",
       "2022-07-07  2022-07-07 23:48:23  14845995124    7.125125e+09   \n",
       "2022-07-08  2022-07-08 23:27:47  12518560640   -2.327434e+09   \n",
       "2022-07-09  2022-07-09 23:49:26   5672358977   -6.846202e+09   \n",
       "2022-07-10  2022-07-10 23:19:28  10203458516    4.531100e+09   \n",
       "2022-07-11  2022-07-11 23:48:09  14595957760    4.392499e+09   \n",
       "\n",
       "              rolling_forecast  \n",
       "timestamp                       \n",
       "2022-06-02                None  \n",
       "2022-06-03                None  \n",
       "2022-06-04                None  \n",
       "2022-06-05                None  \n",
       "2022-06-06                None  \n",
       "2022-06-07                None  \n",
       "2022-06-08                None  \n",
       "2022-06-09  25916648638.250771  \n",
       "2022-06-10  26693623394.585194  \n",
       "2022-06-11  14825008001.240971  \n",
       "2022-06-12  23481539745.512714  \n",
       "2022-06-13  71030031498.806107  \n",
       "2022-06-14  61073497578.687576  \n",
       "2022-06-15  29828239697.528336  \n",
       "2022-06-16  19912630535.461082  \n",
       "2022-06-17   20740578441.89259  \n",
       "2022-06-18  35317820896.649582  \n",
       "2022-06-19   9934367709.482294  \n",
       "2022-06-20  31335029874.159233  \n",
       "2022-06-21  26709914674.135567  \n",
       "2022-06-22  50724556233.823059  \n",
       "2022-06-23  28760687472.979877  \n",
       "2022-06-24  16241011860.956879  \n",
       "2022-06-25  18674443996.247723  \n",
       "2022-06-26  26896931493.341755  \n",
       "2022-06-27   5628964148.817589  \n",
       "2022-06-28  14903482512.783049  \n",
       "2022-06-29  33933543262.585327  \n",
       "2022-06-30  82164821752.958649  \n",
       "2022-07-01  33150867860.617027  \n",
       "2022-07-02  12102866763.290932  \n",
       "2022-07-03   2692416575.687567  \n",
       "2022-07-04  15925017343.436563  \n",
       "2022-07-05  12476006798.150383  \n",
       "2022-07-06  10612949978.437727  \n",
       "2022-07-07   6414465829.017293  \n",
       "2022-07-08  14396196822.301256  \n",
       "2022-07-09  14267893436.448278  \n",
       "2022-07-10   3356349856.599479  \n",
       "2022-07-11   15804249376.93858  "
      ]
     },
     "execution_count": 80,
     "metadata": {},
     "output_type": "execute_result"
    }
   ],
   "source": [
    "daily_gas_price_df.head(40)\n"
   ]
  },
  {
   "cell_type": "code",
   "execution_count": 81,
   "id": "0fd91bfd-db67-439c-8225-b4455b994509",
   "metadata": {
    "tags": []
   },
   "outputs": [
    {
     "name": "stdout",
     "output_type": "stream",
     "text": [
      "Mean Absolute Error: 18863016791.490963\n",
      "Mean Absolute Percentage Error: 0.7325675319392314\n",
      "Mean Squared Error: 2.5339997263018034e+21\n",
      "Root Mean Squared Error: 50338849076.0546\n"
     ]
    }
   ],
   "source": [
    "# Calculate the errors\n",
    "mae = mean_absolute_error(daily_gas_price_df['gas_price'][len(train):],\n",
    "                          daily_gas_price_df['rolling_forecast'][len(train):])\n",
    "\n",
    "mape = mean_absolute_percentage_error(daily_gas_price_df['gas_price'][len(train):],\n",
    "                                      daily_gas_price_df['rolling_forecast'][len(train):])\n",
    "\n",
    "mse = mean_squared_error(daily_gas_price_df['gas_price'][len(train):], \n",
    "                         daily_gas_price_df['rolling_forecast'][len(train):])\n",
    "\n",
    "rmse = np.sqrt(mse)\n",
    "\n",
    "# Print the errors\n",
    "print(f'Mean Absolute Error: {mae}')\n",
    "print(f'Mean Absolute Percentage Error: {mape}')\n",
    "print(f'Mean Squared Error: {mse}')\n",
    "print(f'Root Mean Squared Error: {rmse}')"
   ]
  },
  {
   "cell_type": "markdown",
   "id": "b61b4f4b-f8d7-496e-977f-9fa4f0ffe8da",
   "metadata": {},
   "source": [
    "### Step 14: Evaluate Model's Performance"
   ]
  },
  {
   "cell_type": "code",
   "execution_count": 82,
   "id": "4125d287-f97e-4dec-9c70-b5bd4f6d90b9",
   "metadata": {
    "tags": []
   },
   "outputs": [
    {
     "name": "stdout",
     "output_type": "stream",
     "text": [
      "The Mean Absolute Percentage Error for the rolling forecast is:  79.50590858214002\n"
     ]
    }
   ],
   "source": [
    "\n",
    "# Define a function to calculate MAPE\n",
    "def mean_absolute_percentage_error(y_true, y_pred): \n",
    "    \"\"\"\n",
    "    Calculate Mean Absolute Percentage Error (MAPE).\n",
    "\n",
    "    Parameters:\n",
    "    y_true (array-like): The actual values.\n",
    "    y_pred (array-like): The predicted values.\n",
    "\n",
    "    Returns:\n",
    "    mape (float): The MAPE.\n",
    "    \"\"\"\n",
    "    y_true, y_pred = np.array(y_true), np.array(y_pred)\n",
    "    return np.mean(np.abs((y_true - y_pred) / y_true)) * 100\n",
    "\n",
    "# Slice test['gas_price'].values and rolling_forecast to have the same size\n",
    "size = min(len(test['gas_price'].values), len(rolling_forecast))\n",
    "\n",
    "# Calculate MAPE for the rolling forecast\n",
    "mape = mean_absolute_percentage_error(test['gas_price'].values[:size], rolling_forecast[:size])\n",
    "print('The Mean Absolute Percentage Error for the rolling forecast is: ', mape)"
   ]
  },
  {
   "cell_type": "code",
   "execution_count": 83,
   "id": "100d1870-0bc3-40fd-baea-8b5c4df286ec",
   "metadata": {
    "tags": []
   },
   "outputs": [
    {
     "data": {
      "text/plain": [
       "['saved_models/Alex_ARIMA_model.joblib']"
      ]
     },
     "execution_count": 83,
     "metadata": {},
     "output_type": "execute_result"
    }
   ],
   "source": [
    "# Save the model to a file\n",
    "dump(model_fit, 'saved_models/Alex_ARIMA_model.joblib') "
   ]
  },
  {
   "cell_type": "markdown",
   "id": "a1e79066-44af-406f-bcab-20ce9db1f16a",
   "metadata": {},
   "source": [
    "### Step 16: Load the Model and Make Predictions"
   ]
  },
  {
   "cell_type": "code",
   "execution_count": 84,
   "id": "c97079a8-0502-476c-8acc-8709925b3cf1",
   "metadata": {},
   "outputs": [
    {
     "name": "stdout",
     "output_type": "stream",
     "text": [
      "The forecasted Ethereum gas price is: 164819370180.72156\n"
     ]
    }
   ],
   "source": [
    "# Load the model from the file\n",
    "model = load('saved_models/Alex_ARIMA_model.joblib')\n",
    "\n",
    "# Make a prediction\n",
    "yhat = model.forecast()[0]\n",
    "\n",
    "print(f'The forecasted Ethereum gas price is: {yhat}')"
   ]
  },
  {
   "cell_type": "code",
   "execution_count": null,
   "id": "15cc3b95-67dd-4e6c-a120-e85abcbda101",
   "metadata": {},
   "outputs": [],
   "source": []
  },
  {
   "cell_type": "code",
   "execution_count": null,
   "id": "b6ac6b2e-1002-4525-a3be-4882cf9cc86d",
   "metadata": {},
   "outputs": [],
   "source": []
  },
  {
   "cell_type": "code",
   "execution_count": null,
   "id": "ffee6a03-bff6-4531-8744-3c5130f9fc92",
   "metadata": {},
   "outputs": [],
   "source": []
  },
  {
   "cell_type": "code",
   "execution_count": 87,
   "id": "dac3113e-327e-4f07-b716-f221691697d7",
   "metadata": {
    "tags": []
   },
   "outputs": [
    {
     "name": "stdout",
     "output_type": "stream",
     "text": [
      "15335184722.127659\n"
     ]
    }
   ],
   "source": [
    "# Avarage model \n",
    "avg_model = train['gas_price'].mean()\n",
    "print(avg_model)"
   ]
  },
  {
   "cell_type": "code",
   "execution_count": 88,
   "id": "1224da30-859f-4d21-b6a2-eb95c3cf9658",
   "metadata": {
    "tags": []
   },
   "outputs": [],
   "source": [
    "preds_df = pd.DataFrame({\"test\":test['gas_price'], \"avg_model_preds\":[avg_model]*len(test)})"
   ]
  },
  {
   "cell_type": "code",
   "execution_count": 89,
   "id": "397fcf89-3366-4e8e-a9c7-2a778639e516",
   "metadata": {
    "tags": []
   },
   "outputs": [],
   "source": [
    "def RMSE(actual, pred):\n",
    "    return (sum((actual - pred)**2)/ len(actual))**0.5"
   ]
  },
  {
   "cell_type": "code",
   "execution_count": 90,
   "id": "90c52e11-2b09-4428-946a-3c1f4eb929db",
   "metadata": {
    "tags": []
   },
   "outputs": [
    {
     "data": {
      "text/plain": [
       "30346487158.91857"
      ]
     },
     "execution_count": 90,
     "metadata": {},
     "output_type": "execute_result"
    }
   ],
   "source": [
    "RMSE(preds_df['test'], preds_df['avg_model_preds'])"
   ]
  },
  {
   "cell_type": "code",
   "execution_count": null,
   "id": "48db77ea-eeff-4e5a-be61-378326ff59b8",
   "metadata": {},
   "outputs": [],
   "source": []
  },
  {
   "cell_type": "code",
   "execution_count": null,
   "id": "c37776e3-ba05-4dbc-9b94-e067f92204ec",
   "metadata": {},
   "outputs": [],
   "source": []
  },
  {
   "cell_type": "code",
   "execution_count": null,
   "id": "f378680c-0ca6-418e-a090-0df377021c26",
   "metadata": {},
   "outputs": [],
   "source": []
  },
  {
   "cell_type": "code",
   "execution_count": null,
   "id": "ce338305-3867-43c6-b605-05a21b06a457",
   "metadata": {},
   "outputs": [],
   "source": []
  },
  {
   "cell_type": "code",
   "execution_count": null,
   "id": "935552e5-b075-40a0-96db-6574cb312494",
   "metadata": {},
   "outputs": [],
   "source": []
  },
  {
   "cell_type": "code",
   "execution_count": null,
   "id": "91a12303-fd56-4e57-8466-93cf98e819dc",
   "metadata": {},
   "outputs": [],
   "source": []
  },
  {
   "cell_type": "code",
   "execution_count": null,
   "id": "ef5af39c-36e8-4746-a712-f2b2d53a66e2",
   "metadata": {},
   "outputs": [],
   "source": []
  }
 ],
 "metadata": {
  "kernelspec": {
   "display_name": "Python 3 (ipykernel)",
   "language": "python",
   "name": "python3"
  },
  "language_info": {
   "codemirror_mode": {
    "name": "ipython",
    "version": 3
   },
   "file_extension": ".py",
   "mimetype": "text/x-python",
   "name": "python",
   "nbconvert_exporter": "python",
   "pygments_lexer": "ipython3",
   "version": "3.8.0"
  }
 },
 "nbformat": 4,
 "nbformat_minor": 5
}
